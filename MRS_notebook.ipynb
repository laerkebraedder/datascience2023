{
 "cells": [
  {
   "attachments": {},
   "cell_type": "markdown",
   "metadata": {},
   "source": [
    "<h1> <center>🍿 Movie Recommendation Systems Using Content-Based Filtering and Collaborative Filtering</center> </h1>\n",
    "\n",
    "<p><center>Author: Lærke Brædder</center></p>\n",
    "\n",
    "***"
   ]
  },
  {
   "attachments": {},
   "cell_type": "markdown",
   "metadata": {},
   "source": [
    "<div style=\"width:100%;text-align: center;\"> <img align=middle src=\"https://editor.analyticsvidhya.com/uploads/76889recommender-system-for-movie-recommendation.jpg\" alt=\"Movie\" style=\"height:60%;margin-top:3rem;\"> </div>"
   ]
  },
  {
   "attachments": {},
   "cell_type": "markdown",
   "metadata": {},
   "source": [
    "## Introduction\n",
    "\n",
    "Recommender systems are an integral part of much of our online activity. They have been around for decades, but have recently become more prominent due to the rise in popularity and availability of online entertainment such as streaming platforms. The goal of a recommender system is to suggest appropriate items to a user based on how various features of the item match the user's preferences. The systems aim to predict the probability of a user buying/liking the item.\n",
    "\n",
    "In this notebook we will be going over two different types of recommender system. The first type is relies on a content-based filtering approach, and the secon type relies on a collaborative filtering approach. \n",
    "\n",
    "All in all, we will create 4 different types of recommenders.\n",
    "\n",
    "1. The Content-Based Recommender\n",
    "2. The Item-Based Collaborative Filtering Recommender\n",
    "3. The User-Based Collaborative Filtering Recommender\n",
    "4. The Model-Based Collaborative Filtering Recommender\n",
    "\n",
    "Each of these recommenders, and how they were created, will be presented in thorough detail throughout the notebook. If you are looking for the quick and clean version, the collected finalized code for each recommender can be found in the last section of each chapter named \"Functionalizing the xxx-Based Recommender\".\n",
    "\n",
    "***\n",
    "\n",
    "<font color = 'blue'>\n",
    "Content:\n",
    "\n",
    "    \n",
    "1. [**Content-Based Filtering**](#1)\n",
    "    * 1.1 [Generating TF-IDF Matrix](#2)\n",
    "        * 1.1.1 [Loading the data](#3)\n",
    "        * 1.1.2 [TF-IDF Vectorizer](#4)\n",
    "    * 1.2 [Cosine Similarity Matrix](#5)\n",
    "    * 1.3 [Making Suggestions Based on Similarities](#6)\n",
    "    * 1.4 [Functionalizing the Content-Based Recommender](#7)\n",
    "    \n",
    "1. [**Collaborative Filtering**](#8)\n",
    "     * 2.1 [Item-Based Collaborative Filtering](#9)\n",
    "        * 2.1.1 [Data Preprocessing](#10)\n",
    "        * 2.1.2 [Creating a User Movie Df](#11)\n",
    "        * 2.1.3 [Item-Based Movie Suggestions](#12)\n",
    "        * 2.1.3 [Functionalizing the Item-Based Recommender](#13)\n",
    "     * 2.2 [User-Based Collaborative Filtering](#14)\n",
    "        * 2.2.1 [Data Preprocessing](#15)\n",
    "        * 2.2.2 [Determining The Movies that Our Random User Has Watched To Make Suggestions](#16)\n",
    "        * 2.2.3 [Accessing Data and IDs of Other Users Watching the Same Movies](#17)\n",
    "        * 2.2.4 [Identifying Other Users Who Behave Similarily to Our User of Interest](#18)\n",
    "        * 2.2.5 [Calculating the Weighted Average Recommendation Score](#19)\n",
    "        * 2.2.6 [Functionalizing the User-Based Recommender](#20)\n",
    "     * 2.3 [Model-Based Collaborative Filtering - Matrix Factorization](#21)\n",
    "        * 2.3.1 [Data Preprocessing](#22)\n",
    "        * 2.3.2 [Modelling](#23)\n",
    "        * 2.3.3 [Model Tuning](#24)\n",
    "        * 2.3.4 [Final Model and Prediction](#25)\n",
    "        * 2.3.5 [Functionalizing the Model-Based Recommender](#25)\n",
    "    "
   ]
  },
  {
   "attachments": {},
   "cell_type": "markdown",
   "metadata": {},
   "source": [
    "# 1. Content-Based Filtering"
   ]
  },
  {
   "attachments": {},
   "cell_type": "markdown",
   "metadata": {},
   "source": [
    "With content-based filtering, we create mathematical representations (vectors) of text data.\n",
    "\n",
    "From the movie data, we create a TF-IDF matrix and a cosine similarity matrix and recommend movies to the user based on similarities.\n",
    "\n",
    "For this task, we are goint to need the Euclidian distance, which finds the distance between two vectors.\n",
    "\n",
    "The cosine similarity is a metric, which focuses on the similarity of two vectors."
   ]
  },
  {
   "cell_type": "code",
   "execution_count": 2,
   "metadata": {},
   "outputs": [],
   "source": [
    "# Importing packages\n",
    "\n",
    "import pandas as pd\n",
    "pd.set_option('display.max_columns', None)\n",
    "pd.set_option('display.width', 500)\n",
    "pd.set_option('display.expand_frame_repr', False)\n",
    "from sklearn.feature_extraction.text import TfidfVectorizer\n",
    "from sklearn.feature_extraction.text import CountVectorizer\n",
    "from sklearn.metrics.pairwise import cosine_similarity\n",
    "\n",
    "import matplotlib.pyplot as plt\n",
    "import numpy as np"
   ]
  },
  {
   "attachments": {},
   "cell_type": "markdown",
   "metadata": {},
   "source": [
    "## 1.1. Generating TF-IDF Matrix\n",
    "\n",
    "Here we make a recommendation system based on movie overviews - a column in the data which contains a short text description of each movie."
   ]
  },
  {
   "attachments": {},
   "cell_type": "markdown",
   "metadata": {},
   "source": [
    "### 1.1.1. Loading the data"
   ]
  },
  {
   "cell_type": "code",
   "execution_count": null,
   "metadata": {},
   "outputs": [],
   "source": [
    "# Loading the movies metadata\n",
    "# df2 = pd.read_csv(\"the_movies_dataset/movies_metadata.csv\", sep = \";\", encoding = 'unicode_escape', low_memory=False) \n",
    "df2 = pd.read_csv(\"the_movies_dataset/movies_metadata.csv\", encoding = 'unicode_escape', low_memory=False)\n",
    "\n",
    "# Inspecting the dataframe\n",
    "df2.head(3)"
   ]
  },
  {
   "cell_type": "code",
   "execution_count": 54,
   "metadata": {},
   "outputs": [
    {
     "data": {
      "text/plain": [
       "0    Led by Woody, Andy's toys live happily in his ...\n",
       "1    When siblings Judy and Peter discover an encha...\n",
       "2    A family wedding reignites the ancient feud be...\n",
       "Name: overview, dtype: object"
      ]
     },
     "execution_count": 54,
     "metadata": {},
     "output_type": "execute_result"
    }
   ],
   "source": [
    "df2[\"overview\"].head(3)"
   ]
  },
  {
   "attachments": {},
   "cell_type": "markdown",
   "metadata": {},
   "source": [
    "### 1.1.2. IF-IDF vectorizer"
   ]
  },
  {
   "attachments": {},
   "cell_type": "markdown",
   "metadata": {},
   "source": [
    "- TF(t) is the term frequency of a term t in a given document.\n",
    "- IDF(t) is the inverse document frequency, i.e. the number of documents with t term + 1 (xxx?).\n",
    "- TF-IDF is the product of the above two.\n",
    "- L2 is the normalization to TF-IDF values."
   ]
  },
  {
   "cell_type": "code",
   "execution_count": 55,
   "metadata": {},
   "outputs": [
    {
     "data": {
      "text/plain": [
       "(45466, 77492)"
      ]
     },
     "execution_count": 55,
     "metadata": {},
     "output_type": "execute_result"
    }
   ],
   "source": [
    "# We start by defining our vectorizer\n",
    "tfidf = TfidfVectorizer(stop_words = 'english')\n",
    "\n",
    "# Now, we remove NAs from the overview column in out dataset\n",
    "df2['overview'] = df2['overview'].fillna('')\n",
    "\n",
    "# and fit the vectorizer to the data\n",
    "tfidf_matrix = tfidf.fit_transform(df2['overview'])\n",
    "tfidf_matrix.shape"
   ]
  },
  {
   "attachments": {},
   "cell_type": "markdown",
   "metadata": {},
   "source": [
    "## 1.2. Cosine Similarity Matrix"
   ]
  },
  {
   "cell_type": "code",
   "execution_count": 56,
   "metadata": {},
   "outputs": [
    {
     "data": {
      "text/plain": [
       "(45466, 45466)"
      ]
     },
     "execution_count": 56,
     "metadata": {},
     "output_type": "execute_result"
    }
   ],
   "source": [
    "cosine_sim = cosine_similarity(tfidf_matrix, tfidf_matrix)\n",
    "\n",
    "cosine_sim.shape"
   ]
  },
  {
   "cell_type": "code",
   "execution_count": 57,
   "metadata": {},
   "outputs": [
    {
     "data": {
      "text/plain": [
       "array([0.01503245, 1.        , 0.04683251, ..., 0.        , 0.02181715,\n",
       "       0.00929001])"
      ]
     },
     "execution_count": 57,
     "metadata": {},
     "output_type": "execute_result"
    }
   ],
   "source": [
    "cosine_sim[1]"
   ]
  },
  {
   "attachments": {},
   "cell_type": "markdown",
   "metadata": {},
   "source": [
    "## 1.3. Making Suggestions Based on Similarity"
   ]
  },
  {
   "cell_type": "code",
   "execution_count": 58,
   "metadata": {},
   "outputs": [
    {
     "name": "stdout",
     "output_type": "stream",
     "text": [
      "(42278,)\n",
      "title\n",
      "Toy Story                       0\n",
      "Jumanji                         1\n",
      "Grumpier Old Men                2\n",
      "Waiting to Exhale               3\n",
      "Father of the Bride Part II     4\n",
      "Tom and Huck                    7\n",
      "Sudden Death                    8\n",
      "GoldenEye                       9\n",
      "The American President         10\n",
      "Dracula: Dead and Loving It    11\n",
      "dtype: int64\n"
     ]
    }
   ],
   "source": [
    "# Indexing the movies\n",
    "indices = pd.Series(df2.index, index=df2['title'])\n",
    "indices = indices[~indices.index.duplicated(keep='last')]\n",
    "\n",
    "print(indices.shape)\n",
    "\n",
    "print(indices[:10])"
   ]
  },
  {
   "cell_type": "code",
   "execution_count": 59,
   "metadata": {},
   "outputs": [
    {
     "data": {
      "text/plain": [
       "array([0.01503245, 1.        , 0.04683251, ..., 0.        , 0.02181715,\n",
       "       0.00929001])"
      ]
     },
     "execution_count": 59,
     "metadata": {},
     "output_type": "execute_result"
    }
   ],
   "source": [
    "## Little example for inspection\n",
    "\n",
    "# Saving the index of a specific movie as an object\n",
    "jumanji_index = indices[\"Jumanji\"]\n",
    "\n",
    "# and getting the cosine similarities between Jumanji and other movies\n",
    "cosine_sim[jumanji_index]"
   ]
  },
  {
   "cell_type": "code",
   "execution_count": 60,
   "metadata": {},
   "outputs": [
    {
     "data": {
      "text/html": [
       "<div>\n",
       "<style scoped>\n",
       "    .dataframe tbody tr th:only-of-type {\n",
       "        vertical-align: middle;\n",
       "    }\n",
       "\n",
       "    .dataframe tbody tr th {\n",
       "        vertical-align: top;\n",
       "    }\n",
       "\n",
       "    .dataframe thead th {\n",
       "        text-align: right;\n",
       "    }\n",
       "</style>\n",
       "<table border=\"1\" class=\"dataframe\">\n",
       "  <thead>\n",
       "    <tr style=\"text-align: right;\">\n",
       "      <th></th>\n",
       "      <th>title</th>\n",
       "      <th>id</th>\n",
       "    </tr>\n",
       "  </thead>\n",
       "  <tbody>\n",
       "    <tr>\n",
       "      <th>21633</th>\n",
       "      <td>Table No. 21</td>\n",
       "      <td>157129</td>\n",
       "    </tr>\n",
       "    <tr>\n",
       "      <th>45253</th>\n",
       "      <td>Quiz</td>\n",
       "      <td>96823</td>\n",
       "    </tr>\n",
       "    <tr>\n",
       "      <th>41573</th>\n",
       "      <td>Snowed Under</td>\n",
       "      <td>217672</td>\n",
       "    </tr>\n",
       "    <tr>\n",
       "      <th>35509</th>\n",
       "      <td>The Mend</td>\n",
       "      <td>253258</td>\n",
       "    </tr>\n",
       "    <tr>\n",
       "      <th>44376</th>\n",
       "      <td>Liar Game: Reborn</td>\n",
       "      <td>133977</td>\n",
       "    </tr>\n",
       "    <tr>\n",
       "      <th>17223</th>\n",
       "      <td>The Dark Angel</td>\n",
       "      <td>120977</td>\n",
       "    </tr>\n",
       "    <tr>\n",
       "      <th>8801</th>\n",
       "      <td>Quintet</td>\n",
       "      <td>45169</td>\n",
       "    </tr>\n",
       "    <tr>\n",
       "      <th>6166</th>\n",
       "      <td>Brainscan</td>\n",
       "      <td>14237</td>\n",
       "    </tr>\n",
       "    <tr>\n",
       "      <th>30981</th>\n",
       "      <td>Turkey Shoot</td>\n",
       "      <td>301730</td>\n",
       "    </tr>\n",
       "    <tr>\n",
       "      <th>9503</th>\n",
       "      <td>Word Wars</td>\n",
       "      <td>28105</td>\n",
       "    </tr>\n",
       "  </tbody>\n",
       "</table>\n",
       "</div>"
      ],
      "text/plain": [
       "                   title      id\n",
       "21633       Table No. 21  157129\n",
       "45253               Quiz   96823\n",
       "41573       Snowed Under  217672\n",
       "35509           The Mend  253258\n",
       "44376  Liar Game: Reborn  133977\n",
       "17223     The Dark Angel  120977\n",
       "8801             Quintet   45169\n",
       "6166           Brainscan   14237\n",
       "30981       Turkey Shoot  301730\n",
       "9503           Word Wars   28105"
      ]
     },
     "execution_count": 60,
     "metadata": {},
     "output_type": "execute_result"
    }
   ],
   "source": [
    "# Creating a dataframe containing the cosine similarities for all of the movies in the data\n",
    "similarity_scores = pd.DataFrame(cosine_sim[jumanji_index], columns=[\"score\"])\n",
    "\n",
    "# Showing the 10 movies that have the closest cosine similarity to our chosen movie (from most similar to least similar)\n",
    "jumanji_indices = similarity_scores.sort_values(\"score\", ascending=False)[1:11].index\n",
    "\n",
    "df2[['title', 'id']].iloc[jumanji_indices]"
   ]
  },
  {
   "attachments": {},
   "cell_type": "markdown",
   "metadata": {},
   "source": [
    "## 1.4. Now, let's make it into a function"
   ]
  },
  {
   "cell_type": "code",
   "execution_count": 4,
   "metadata": {},
   "outputs": [],
   "source": [
    "def create_cosine_sim(dataframe):\n",
    "    # Vectorizing\n",
    "    tfidf = TfidfVectorizer(stop_words = 'english')\n",
    "    dataframe['overview'] = dataframe['overview'].fillna('')\n",
    "    tfidf_matrix = tfidf.fit_transform(dataframe['overview'])\n",
    "\n",
    "    # Creating the similarity matrix\n",
    "    cosine_sim = cosine_similarity(tfidf_matrix, tfidf_matrix)\n",
    "\n",
    "    return cosine_sim\n",
    "\n",
    "\n",
    "def content_based_recommender(title, dataframe, n_recommendations):\n",
    "    \n",
    "    # First, we write the code that generates indicies for all of the movie titles\n",
    "    indices = pd.Series(dataframe.index, index=dataframe['title'])\n",
    "    indices = indices[~indices.index.duplicated(keep='last')]\n",
    "\n",
    "    # Now, we can capture the index of our given movie title\n",
    "    movie_index = indices[title]\n",
    "\n",
    "    # Calculating similarity scores by title\n",
    "    similarity_scores = pd.DataFrame(cosine_sim[movie_index], columns=[\"score\"])\n",
    "\n",
    "    # Showing the to n most similar movies (excluding the movie itself)\n",
    "    movie_indices = similarity_scores.sort_values(\"score\", ascending=False)[1:(n_recommendations+1)].index\n",
    "    \n",
    "    return dataframe[['title', 'id']].iloc[movie_indices]"
   ]
  },
  {
   "cell_type": "code",
   "execution_count": 5,
   "metadata": {},
   "outputs": [
    {
     "data": {
      "text/html": [
       "<div>\n",
       "<style scoped>\n",
       "    .dataframe tbody tr th:only-of-type {\n",
       "        vertical-align: middle;\n",
       "    }\n",
       "\n",
       "    .dataframe tbody tr th {\n",
       "        vertical-align: top;\n",
       "    }\n",
       "\n",
       "    .dataframe thead th {\n",
       "        text-align: right;\n",
       "    }\n",
       "</style>\n",
       "<table border=\"1\" class=\"dataframe\">\n",
       "  <thead>\n",
       "    <tr style=\"text-align: right;\">\n",
       "      <th></th>\n",
       "      <th>title</th>\n",
       "      <th>id</th>\n",
       "    </tr>\n",
       "  </thead>\n",
       "  <tbody>\n",
       "    <tr>\n",
       "      <th>34682</th>\n",
       "      <td>How the Lion Cub and the Turtle Sang a Song</td>\n",
       "      <td>273126</td>\n",
       "    </tr>\n",
       "    <tr>\n",
       "      <th>9353</th>\n",
       "      <td>The Lion King 1Â½</td>\n",
       "      <td>11430</td>\n",
       "    </tr>\n",
       "    <tr>\n",
       "      <th>9115</th>\n",
       "      <td>The Lion King 2: Simba's Pride</td>\n",
       "      <td>9732</td>\n",
       "    </tr>\n",
       "    <tr>\n",
       "      <th>42829</th>\n",
       "      <td>Prey</td>\n",
       "      <td>400610</td>\n",
       "    </tr>\n",
       "    <tr>\n",
       "      <th>25654</th>\n",
       "      <td>Fearless Fagan</td>\n",
       "      <td>241804</td>\n",
       "    </tr>\n",
       "    <tr>\n",
       "      <th>17041</th>\n",
       "      <td>African Cats</td>\n",
       "      <td>57586</td>\n",
       "    </tr>\n",
       "    <tr>\n",
       "      <th>27933</th>\n",
       "      <td>MassaÃ¯, les guerriers de la pluie</td>\n",
       "      <td>74684</td>\n",
       "    </tr>\n",
       "    <tr>\n",
       "      <th>6094</th>\n",
       "      <td>Born Free</td>\n",
       "      <td>15347</td>\n",
       "    </tr>\n",
       "    <tr>\n",
       "      <th>37409</th>\n",
       "      <td>Sour Grape</td>\n",
       "      <td>357959</td>\n",
       "    </tr>\n",
       "    <tr>\n",
       "      <th>3203</th>\n",
       "      <td>The Waiting Game</td>\n",
       "      <td>210307</td>\n",
       "    </tr>\n",
       "  </tbody>\n",
       "</table>\n",
       "</div>"
      ],
      "text/plain": [
       "                                             title      id\n",
       "34682  How the Lion Cub and the Turtle Sang a Song  273126\n",
       "9353                             The Lion King 1Â½   11430\n",
       "9115                The Lion King 2: Simba's Pride    9732\n",
       "42829                                         Prey  400610\n",
       "25654                               Fearless Fagan  241804\n",
       "17041                                 African Cats   57586\n",
       "27933           MassaÃ¯, les guerriers de la pluie   74684\n",
       "6094                                     Born Free   15347\n",
       "37409                                   Sour Grape  357959\n",
       "3203                              The Waiting Game  210307"
      ]
     },
     "execution_count": 5,
     "metadata": {},
     "output_type": "execute_result"
    }
   ],
   "source": [
    "cosine_sim = create_cosine_sim(df2) # This could be nested inside the recommender, but it takes a long time to run, so let's put it here\n",
    "\n",
    "# Trying it out\n",
    "content_based_recommender(\"The Lion King\", df2, 10)\n",
    "\n",
    "# Just by eyeballing, these results look pretty promising. From the titles we can guess, that the movie descriptions\n",
    "# will probably contain words that are similar to those from The Lion King overview. "
   ]
  },
  {
   "attachments": {},
   "cell_type": "markdown",
   "metadata": {},
   "source": [
    "## 1.5. Evaluating the Recommendations"
   ]
  },
  {
   "attachments": {},
   "cell_type": "markdown",
   "metadata": {},
   "source": [
    "Since this is not a model-based machine learning method, we cannot directly evaluate the accuracy of our recommendation system. However, we can use the ratings data to check if the users who rated, say Jumanji, highly did indeed also rate the recommended movies highly.\n",
    "\n"
   ]
  },
  {
   "cell_type": "code",
   "execution_count": 8,
   "metadata": {},
   "outputs": [],
   "source": [
    "def rating_df_plot():\n",
    "    # Loading the ratings data\n",
    "    rating = pd.read_csv('movielens/rating.csv')\n",
    "\n",
    "    # Renaming the id col to match the one in the recommendations output\n",
    "    rating = rating.rename(columns={\"movieId\" : \"id\"})\n",
    "\n",
    "    # Matching the datatype of the recommendation df to avoid merging issues\n",
    "    rating[\"id\"] = rating[\"id\"].astype(\"str\")\n",
    "\n",
    "    # Selecting a subset of 10 random users\n",
    "    ids = np.random.choice(rating[\"userId\"], size=10, replace=False)\n",
    "    rating_sample = pd.DataFrame(rating.loc[rating[\"userId\"].isin(ids)])\n",
    "\n",
    "    return rating_sample, ids\n",
    "\n",
    "\n",
    "\n",
    "\n",
    "def create_df_for_plotting(movielist, dataframe): # the recommender arg takes the name of the recommender functions\n",
    "    plot_df = pd.DataFrame()\n",
    "\n",
    "    for movie in movielist:\n",
    "        movie_df = content_based_recommender(movie, dataframe, dataframe.shape[0])\n",
    "        movie_df['rec_number'] = range(1, len(movie_df) + 1)\n",
    "        movie_df = movie_df.merge(rating_sample)\n",
    "        movie_df = pd.DataFrame(movie_df.loc[movie_df[\"userId\"].isin(ids)])\n",
    "        movie_df['movie'] = movie\n",
    "    \n",
    "        plot_df = pd.concat([plot_df, movie_df])\n",
    "    \n",
    "    return plot_df\n",
    " "
   ]
  },
  {
   "cell_type": "code",
   "execution_count": 9,
   "metadata": {},
   "outputs": [],
   "source": [
    "rating_sample, ids = rating_df_plot()\n",
    "\n",
    "plot_df_cb = create_df_for_plotting([\"Toy Story\", \"Jumanji\", \"The Lion King\", \"Finding Nemo\"], df2)   "
   ]
  },
  {
   "cell_type": "code",
   "execution_count": 10,
   "metadata": {},
   "outputs": [
    {
     "data": {
      "text/plain": [
       "<seaborn.axisgrid.FacetGrid at 0x1b7254fd0>"
      ]
     },
     "execution_count": 10,
     "metadata": {},
     "output_type": "execute_result"
    },
    {
     "data": {
      "image/png": "[encoded data removed]",
      "text/plain": [
       "<Figure size 2103x500 with 4 Axes>"
      ]
     },
     "metadata": {},
     "output_type": "display_data"
    }
   ],
   "source": [
    "def plot_ratings(data):\n",
    "    import seaborn as sns\n",
    "\n",
    "    g = sns.lmplot(data=data,\n",
    "                   x= \"rec_number\", y= \"rating\", \n",
    "                   hue=\"userId\", col=\"movie\",\n",
    "                   scatter_kws={\"s\": 0})\n",
    "    g.set(ylim=(0, 5.2),\n",
    "          xlabel = \"Recommendation ranking\",\n",
    "          ylabel = 'Rating')\n",
    "\n",
    "    return g\n",
    "\n",
    "\n",
    "plot_ratings(plot_df_cb)"
   ]
  },
  {
   "attachments": {},
   "cell_type": "markdown",
   "metadata": {},
   "source": [
    "# 2. Collaborative Filtering"
   ]
  },
  {
   "attachments": {},
   "cell_type": "markdown",
   "metadata": {},
   "source": [
    "## 2.1. Item-Based Collaborative Filtering\n",
    "\n",
    "For this approach, recommendations are made based on item similarity. For example, if we liked Finding Nemo, then we might want to be recommended other movies that show the same liking structure, or that have the same director, cast, etc."
   ]
  },
  {
   "attachments": {},
   "cell_type": "markdown",
   "metadata": {},
   "source": [
    "### 2.1.1. Data Preprocessing"
   ]
  },
  {
   "cell_type": "code",
   "execution_count": 12,
   "metadata": {},
   "outputs": [
    {
     "data": {
      "text/html": [
       "<div>\n",
       "<style scoped>\n",
       "    .dataframe tbody tr th:only-of-type {\n",
       "        vertical-align: middle;\n",
       "    }\n",
       "\n",
       "    .dataframe tbody tr th {\n",
       "        vertical-align: top;\n",
       "    }\n",
       "\n",
       "    .dataframe thead th {\n",
       "        text-align: right;\n",
       "    }\n",
       "</style>\n",
       "<table border=\"1\" class=\"dataframe\">\n",
       "  <thead>\n",
       "    <tr style=\"text-align: right;\">\n",
       "      <th></th>\n",
       "      <th>movieId</th>\n",
       "      <th>title</th>\n",
       "      <th>genres</th>\n",
       "      <th>userId</th>\n",
       "      <th>rating</th>\n",
       "      <th>timestamp</th>\n",
       "    </tr>\n",
       "  </thead>\n",
       "  <tbody>\n",
       "    <tr>\n",
       "      <th>0</th>\n",
       "      <td>1</td>\n",
       "      <td>Toy Story (1995)</td>\n",
       "      <td>Adventure|Animation|Children|Comedy|Fantasy</td>\n",
       "      <td>3.0</td>\n",
       "      <td>4.0</td>\n",
       "      <td>1999-12-11 13:36:47</td>\n",
       "    </tr>\n",
       "    <tr>\n",
       "      <th>1</th>\n",
       "      <td>1</td>\n",
       "      <td>Toy Story (1995)</td>\n",
       "      <td>Adventure|Animation|Children|Comedy|Fantasy</td>\n",
       "      <td>6.0</td>\n",
       "      <td>5.0</td>\n",
       "      <td>1997-03-13 17:50:52</td>\n",
       "    </tr>\n",
       "    <tr>\n",
       "      <th>2</th>\n",
       "      <td>1</td>\n",
       "      <td>Toy Story (1995)</td>\n",
       "      <td>Adventure|Animation|Children|Comedy|Fantasy</td>\n",
       "      <td>8.0</td>\n",
       "      <td>4.0</td>\n",
       "      <td>1996-06-05 13:37:51</td>\n",
       "    </tr>\n",
       "  </tbody>\n",
       "</table>\n",
       "</div>"
      ],
      "text/plain": [
       "   movieId             title                                       genres  userId  rating            timestamp\n",
       "0        1  Toy Story (1995)  Adventure|Animation|Children|Comedy|Fantasy     3.0     4.0  1999-12-11 13:36:47\n",
       "1        1  Toy Story (1995)  Adventure|Animation|Children|Comedy|Fantasy     6.0     5.0  1997-03-13 17:50:52\n",
       "2        1  Toy Story (1995)  Adventure|Animation|Children|Comedy|Fantasy     8.0     4.0  1996-06-05 13:37:51"
      ]
     },
     "execution_count": 12,
     "metadata": {},
     "output_type": "execute_result"
    }
   ],
   "source": [
    "# Setting column display limit for dataframes (for your viewing pleasure)\n",
    "pd.set_option('display.max_columns', 20)\n",
    "\n",
    "# Loading the data\n",
    "movie = pd.read_csv('movielens/movie.csv')\n",
    "rating = pd.read_csv('movielens/rating.csv')\n",
    "df3 = movie.merge(rating, how=\"left\", on=\"movieId\")\n",
    "df3.head(3)"
   ]
  },
  {
   "cell_type": "code",
   "execution_count": null,
   "metadata": {},
   "outputs": [],
   "source": [
    "# This is a pretty large dataset; We have 20000797 rows and 6 columns, and we don't want to use all of them. Let's start by taking just a sample from this data.\n",
    "# df3 = df3.sample(frac = .50) # frac refers to the fraction of the dataset that we want to keep."
   ]
  },
  {
   "attachments": {},
   "cell_type": "markdown",
   "metadata": {},
   "source": [
    "### 2.1.2. Creating a user movie df"
   ]
  },
  {
   "cell_type": "code",
   "execution_count": null,
   "metadata": {},
   "outputs": [
    {
     "data": {
      "text/plain": [
       "27262"
      ]
     },
     "execution_count": 15,
     "metadata": {},
     "output_type": "execute_result"
    }
   ],
   "source": [
    "# Number of movies in the dataset\n",
    "df3[\"title\"].nunique()"
   ]
  },
  {
   "cell_type": "code",
   "execution_count": null,
   "metadata": {},
   "outputs": [
    {
     "data": {
      "text/plain": [
       "title\n",
       "Pulp Fiction (1994)                 67310\n",
       "Forrest Gump (1994)                 66172\n",
       "Shawshank Redemption, The (1994)    63366\n",
       "Silence of the Lambs, The (1991)    63299\n",
       "Jurassic Park (1993)                59715\n",
       "Name: count, dtype: int64"
      ]
     },
     "execution_count": 16,
     "metadata": {},
     "output_type": "execute_result"
    }
   ],
   "source": [
    "# rating count of each movies\n",
    "df3[\"title\"].value_counts().head()"
   ]
  },
  {
   "cell_type": "code",
   "execution_count": null,
   "metadata": {},
   "outputs": [],
   "source": [
    "# Making a rating count dataframe\n",
    "rating_counts = pd.DataFrame(df3[\"title\"].value_counts()).reset_index()"
   ]
  },
  {
   "cell_type": "code",
   "execution_count": null,
   "metadata": {},
   "outputs": [],
   "source": [
    "# Now, we want to filter out rare movies (i.e. movies that have 10000 ratings or less)\n",
    "rare_movies = rating_counts.loc[rating_counts[\"count\"] <= 10000, \"title\"]\n",
    "\n",
    "# Taking out rare movies from our dataframe\n",
    "common_movies = df3[~df3[\"title\"].isin(rare_movies)]"
   ]
  },
  {
   "cell_type": "code",
   "execution_count": null,
   "metadata": {},
   "outputs": [
    {
     "name": "stdout",
     "output_type": "stream",
     "text": [
      "(9050403, 6)\n",
      "462\n"
     ]
    }
   ],
   "source": [
    "# all ratings\n",
    "print(common_movies.shape)\n",
    "\n",
    "# we have 462 movies now\n",
    "print(common_movies[\"title\"].nunique())"
   ]
  },
  {
   "cell_type": "code",
   "execution_count": null,
   "metadata": {},
   "outputs": [],
   "source": [
    "# let's pivot it\n",
    "user_movie_df = common_movies.pivot_table(index=[\"userId\"], columns=[\"title\"], values=\"rating\")"
   ]
  },
  {
   "cell_type": "code",
   "execution_count": null,
   "metadata": {},
   "outputs": [
    {
     "name": "stdout",
     "output_type": "stream",
     "text": [
      "(137658, 462)\n"
     ]
    },
    {
     "data": {
      "text/html": [
       "<div>\n",
       "<style scoped>\n",
       "    .dataframe tbody tr th:only-of-type {\n",
       "        vertical-align: middle;\n",
       "    }\n",
       "\n",
       "    .dataframe tbody tr th {\n",
       "        vertical-align: top;\n",
       "    }\n",
       "\n",
       "    .dataframe thead th {\n",
       "        text-align: right;\n",
       "    }\n",
       "</style>\n",
       "<table border=\"1\" class=\"dataframe\">\n",
       "  <thead>\n",
       "    <tr style=\"text-align: right;\">\n",
       "      <th>title</th>\n",
       "      <th>10 Things I Hate About You (1999)</th>\n",
       "      <th>12 Angry Men (1957)</th>\n",
       "      <th>2001: A Space Odyssey (1968)</th>\n",
       "      <th>28 Days Later (2002)</th>\n",
       "      <th>300 (2007)</th>\n",
       "      <th>A.I. Artificial Intelligence (2001)</th>\n",
       "      <th>Abyss, The (1989)</th>\n",
       "      <th>Ace Ventura: Pet Detective (1994)</th>\n",
       "      <th>Ace Ventura: When Nature Calls (1995)</th>\n",
       "      <th>Addams Family Values (1993)</th>\n",
       "      <th>...</th>\n",
       "      <th>Wild Wild West (1999)</th>\n",
       "      <th>William Shakespeare's Romeo + Juliet (1996)</th>\n",
       "      <th>Willy Wonka &amp; the Chocolate Factory (1971)</th>\n",
       "      <th>Witness (1985)</th>\n",
       "      <th>Wizard of Oz, The (1939)</th>\n",
       "      <th>X-Files: Fight the Future, The (1998)</th>\n",
       "      <th>X-Men (2000)</th>\n",
       "      <th>X2: X-Men United (2003)</th>\n",
       "      <th>You've Got Mail (1998)</th>\n",
       "      <th>Young Frankenstein (1974)</th>\n",
       "    </tr>\n",
       "    <tr>\n",
       "      <th>userId</th>\n",
       "      <th></th>\n",
       "      <th></th>\n",
       "      <th></th>\n",
       "      <th></th>\n",
       "      <th></th>\n",
       "      <th></th>\n",
       "      <th></th>\n",
       "      <th></th>\n",
       "      <th></th>\n",
       "      <th></th>\n",
       "      <th></th>\n",
       "      <th></th>\n",
       "      <th></th>\n",
       "      <th></th>\n",
       "      <th></th>\n",
       "      <th></th>\n",
       "      <th></th>\n",
       "      <th></th>\n",
       "      <th></th>\n",
       "      <th></th>\n",
       "      <th></th>\n",
       "    </tr>\n",
       "  </thead>\n",
       "  <tbody>\n",
       "    <tr>\n",
       "      <th>1.0</th>\n",
       "      <td>NaN</td>\n",
       "      <td>NaN</td>\n",
       "      <td>3.5</td>\n",
       "      <td>3.5</td>\n",
       "      <td>NaN</td>\n",
       "      <td>NaN</td>\n",
       "      <td>NaN</td>\n",
       "      <td>NaN</td>\n",
       "      <td>NaN</td>\n",
       "      <td>NaN</td>\n",
       "      <td>...</td>\n",
       "      <td>NaN</td>\n",
       "      <td>NaN</td>\n",
       "      <td>NaN</td>\n",
       "      <td>NaN</td>\n",
       "      <td>3.5</td>\n",
       "      <td>NaN</td>\n",
       "      <td>NaN</td>\n",
       "      <td>4.0</td>\n",
       "      <td>NaN</td>\n",
       "      <td>4.0</td>\n",
       "    </tr>\n",
       "    <tr>\n",
       "      <th>2.0</th>\n",
       "      <td>NaN</td>\n",
       "      <td>NaN</td>\n",
       "      <td>5.0</td>\n",
       "      <td>NaN</td>\n",
       "      <td>NaN</td>\n",
       "      <td>NaN</td>\n",
       "      <td>NaN</td>\n",
       "      <td>NaN</td>\n",
       "      <td>NaN</td>\n",
       "      <td>NaN</td>\n",
       "      <td>...</td>\n",
       "      <td>NaN</td>\n",
       "      <td>NaN</td>\n",
       "      <td>NaN</td>\n",
       "      <td>NaN</td>\n",
       "      <td>NaN</td>\n",
       "      <td>NaN</td>\n",
       "      <td>NaN</td>\n",
       "      <td>NaN</td>\n",
       "      <td>NaN</td>\n",
       "      <td>NaN</td>\n",
       "    </tr>\n",
       "    <tr>\n",
       "      <th>3.0</th>\n",
       "      <td>NaN</td>\n",
       "      <td>NaN</td>\n",
       "      <td>5.0</td>\n",
       "      <td>NaN</td>\n",
       "      <td>NaN</td>\n",
       "      <td>NaN</td>\n",
       "      <td>3.0</td>\n",
       "      <td>NaN</td>\n",
       "      <td>NaN</td>\n",
       "      <td>NaN</td>\n",
       "      <td>...</td>\n",
       "      <td>NaN</td>\n",
       "      <td>NaN</td>\n",
       "      <td>5.0</td>\n",
       "      <td>4.0</td>\n",
       "      <td>4.0</td>\n",
       "      <td>5.0</td>\n",
       "      <td>NaN</td>\n",
       "      <td>NaN</td>\n",
       "      <td>NaN</td>\n",
       "      <td>5.0</td>\n",
       "    </tr>\n",
       "    <tr>\n",
       "      <th>4.0</th>\n",
       "      <td>NaN</td>\n",
       "      <td>NaN</td>\n",
       "      <td>NaN</td>\n",
       "      <td>NaN</td>\n",
       "      <td>NaN</td>\n",
       "      <td>NaN</td>\n",
       "      <td>NaN</td>\n",
       "      <td>NaN</td>\n",
       "      <td>3.0</td>\n",
       "      <td>NaN</td>\n",
       "      <td>...</td>\n",
       "      <td>NaN</td>\n",
       "      <td>NaN</td>\n",
       "      <td>NaN</td>\n",
       "      <td>NaN</td>\n",
       "      <td>NaN</td>\n",
       "      <td>NaN</td>\n",
       "      <td>NaN</td>\n",
       "      <td>NaN</td>\n",
       "      <td>NaN</td>\n",
       "      <td>NaN</td>\n",
       "    </tr>\n",
       "    <tr>\n",
       "      <th>5.0</th>\n",
       "      <td>NaN</td>\n",
       "      <td>NaN</td>\n",
       "      <td>NaN</td>\n",
       "      <td>NaN</td>\n",
       "      <td>NaN</td>\n",
       "      <td>NaN</td>\n",
       "      <td>NaN</td>\n",
       "      <td>NaN</td>\n",
       "      <td>NaN</td>\n",
       "      <td>NaN</td>\n",
       "      <td>...</td>\n",
       "      <td>NaN</td>\n",
       "      <td>NaN</td>\n",
       "      <td>2.0</td>\n",
       "      <td>NaN</td>\n",
       "      <td>NaN</td>\n",
       "      <td>NaN</td>\n",
       "      <td>NaN</td>\n",
       "      <td>NaN</td>\n",
       "      <td>NaN</td>\n",
       "      <td>NaN</td>\n",
       "    </tr>\n",
       "  </tbody>\n",
       "</table>\n",
       "<p>5 rows × 462 columns</p>\n",
       "</div>"
      ],
      "text/plain": [
       "title   10 Things I Hate About You (1999)  12 Angry Men (1957)  2001: A Space Odyssey (1968)  28 Days Later (2002)  300 (2007)  A.I. Artificial Intelligence (2001)  Abyss, The (1989)  Ace Ventura: Pet Detective (1994)  Ace Ventura: When Nature Calls (1995)  Addams Family Values (1993)  ...  Wild Wild West (1999)  William Shakespeare's Romeo + Juliet (1996)  Willy Wonka & the Chocolate Factory (1971)  Witness (1985)  Wizard of Oz, The (1939)  X-Files: Fight the Future, The (1998)  X-Men (2000)  X2: X-Men United (2003)  You've Got Mail (1998)  Young Frankenstein (1974)\n",
       "userId                                                                                                                                                                                                                                                                                         ...                                                                                                                                                                                                                                                                                           \n",
       "1.0                                   NaN                  NaN                           3.5                   3.5         NaN                                  NaN                NaN                                NaN                                    NaN                          NaN  ...                    NaN                                          NaN                                         NaN             NaN                       3.5                                    NaN           NaN                      4.0                     NaN                        4.0\n",
       "2.0                                   NaN                  NaN                           5.0                   NaN         NaN                                  NaN                NaN                                NaN                                    NaN                          NaN  ...                    NaN                                          NaN                                         NaN             NaN                       NaN                                    NaN           NaN                      NaN                     NaN                        NaN\n",
       "3.0                                   NaN                  NaN                           5.0                   NaN         NaN                                  NaN                3.0                                NaN                                    NaN                          NaN  ...                    NaN                                          NaN                                         5.0             4.0                       4.0                                    5.0           NaN                      NaN                     NaN                        5.0\n",
       "4.0                                   NaN                  NaN                           NaN                   NaN         NaN                                  NaN                NaN                                NaN                                    3.0                          NaN  ...                    NaN                                          NaN                                         NaN             NaN                       NaN                                    NaN           NaN                      NaN                     NaN                        NaN\n",
       "5.0                                   NaN                  NaN                           NaN                   NaN         NaN                                  NaN                NaN                                NaN                                    NaN                          NaN  ...                    NaN                                          NaN                                         2.0             NaN                       NaN                                    NaN           NaN                      NaN                     NaN                        NaN\n",
       "\n",
       "[5 rows x 462 columns]"
      ]
     },
     "execution_count": 21,
     "metadata": {},
     "output_type": "execute_result"
    }
   ],
   "source": [
    "print(user_movie_df.shape)\n",
    "user_movie_df.head(5)"
   ]
  },
  {
   "attachments": {},
   "cell_type": "markdown",
   "metadata": {},
   "source": [
    "### 2.1.3. Item-Based Movie Suggestions"
   ]
  },
  {
   "cell_type": "code",
   "execution_count": null,
   "metadata": {},
   "outputs": [
    {
     "data": {
      "text/plain": [
       "title\n",
       "Pulp Fiction (1994)            1.000000\n",
       "Reservoir Dogs (1992)          0.510497\n",
       "Kill Bill: Vol. 1 (2003)       0.447371\n",
       "Kill Bill: Vol. 2 (2004)       0.426959\n",
       "Natural Born Killers (1994)    0.355001\n",
       "Sin City (2005)                0.348965\n",
       "Trainspotting (1996)           0.348773\n",
       "Goodfellas (1990)              0.343675\n",
       "Fight Club (1999)              0.328060\n",
       "True Romance (1993)            0.323993\n",
       "dtype: float64"
      ]
     },
     "execution_count": 22,
     "metadata": {},
     "output_type": "execute_result"
    }
   ],
   "source": [
    "# Now, we choose a movie, say Pulp Fiction\n",
    "movie_name = \"Pulp Fiction (1994)\"\n",
    "\n",
    "movie_name = user_movie_df[movie_name]\n",
    "\n",
    "user_movie_df.corrwith(movie_name).sort_values(ascending=False).head(10)"
   ]
  },
  {
   "attachments": {},
   "cell_type": "markdown",
   "metadata": {},
   "source": [
    "### 2.1.4. Making it into a function"
   ]
  },
  {
   "cell_type": "code",
   "execution_count": 15,
   "metadata": {},
   "outputs": [],
   "source": [
    "def create_user_movie_df():\n",
    "    movie = pd.read_csv('movielens/movie.csv')\n",
    "    rating = pd.read_csv('movielens/rating.csv')\n",
    "    df = movie.merge(rating, how=\"left\", on=\"movieId\")\n",
    "    \n",
    "    rating_counts = pd.DataFrame(df[\"title\"].value_counts()).reset_index()\n",
    "    rare_movies = rating_counts.loc[rating_counts[\"count\"] <= 10000, \"title\"]\n",
    "    common_movies = df[~df[\"title\"].isin(rare_movies)]\n",
    "    user_movie_df = common_movies.pivot_table(index=[\"userId\"], columns=[\"title\"], values=\"rating\")\n",
    "    \n",
    "    return user_movie_df\n",
    "\n",
    "\n",
    "def item_based_recommender(movie_name, user_movie_df, n_recommendations):\n",
    "    movie_name = user_movie_df[movie_name]\n",
    "    output = pd.DataFrame(user_movie_df.corrwith(movie_name).sort_values(ascending=False).head(n_recommendations))\n",
    "    output = output.reset_index().rename(columns={0 : \"correlation\"})\n",
    "\n",
    "    return output"
   ]
  },
  {
   "cell_type": "code",
   "execution_count": 13,
   "metadata": {},
   "outputs": [
    {
     "data": {
      "text/html": [
       "<div>\n",
       "<style scoped>\n",
       "    .dataframe tbody tr th:only-of-type {\n",
       "        vertical-align: middle;\n",
       "    }\n",
       "\n",
       "    .dataframe tbody tr th {\n",
       "        vertical-align: top;\n",
       "    }\n",
       "\n",
       "    .dataframe thead th {\n",
       "        text-align: right;\n",
       "    }\n",
       "</style>\n",
       "<table border=\"1\" class=\"dataframe\">\n",
       "  <thead>\n",
       "    <tr style=\"text-align: right;\">\n",
       "      <th></th>\n",
       "      <th>title</th>\n",
       "      <th>correlation</th>\n",
       "    </tr>\n",
       "  </thead>\n",
       "  <tbody>\n",
       "    <tr>\n",
       "      <th>0</th>\n",
       "      <td>Fight Club (1999)</td>\n",
       "      <td>1.000000</td>\n",
       "    </tr>\n",
       "    <tr>\n",
       "      <th>1</th>\n",
       "      <td>Seven (a.k.a. Se7en) (1995)</td>\n",
       "      <td>0.349805</td>\n",
       "    </tr>\n",
       "    <tr>\n",
       "      <th>2</th>\n",
       "      <td>Pulp Fiction (1994)</td>\n",
       "      <td>0.328060</td>\n",
       "    </tr>\n",
       "    <tr>\n",
       "      <th>3</th>\n",
       "      <td>Twelve Monkeys (a.k.a. 12 Monkeys) (1995)</td>\n",
       "      <td>0.327986</td>\n",
       "    </tr>\n",
       "    <tr>\n",
       "      <th>4</th>\n",
       "      <td>Snatch (2000)</td>\n",
       "      <td>0.326288</td>\n",
       "    </tr>\n",
       "    <tr>\n",
       "      <th>5</th>\n",
       "      <td>American History X (1998)</td>\n",
       "      <td>0.326111</td>\n",
       "    </tr>\n",
       "    <tr>\n",
       "      <th>6</th>\n",
       "      <td>Trainspotting (1996)</td>\n",
       "      <td>0.322369</td>\n",
       "    </tr>\n",
       "    <tr>\n",
       "      <th>7</th>\n",
       "      <td>Lock, Stock &amp; Two Smoking Barrels (1998)</td>\n",
       "      <td>0.319509</td>\n",
       "    </tr>\n",
       "    <tr>\n",
       "      <th>8</th>\n",
       "      <td>Memento (2000)</td>\n",
       "      <td>0.308780</td>\n",
       "    </tr>\n",
       "    <tr>\n",
       "      <th>9</th>\n",
       "      <td>Donnie Darko (2001)</td>\n",
       "      <td>0.305932</td>\n",
       "    </tr>\n",
       "  </tbody>\n",
       "</table>\n",
       "</div>"
      ],
      "text/plain": [
       "                                       title  correlation\n",
       "0                          Fight Club (1999)     1.000000\n",
       "1                Seven (a.k.a. Se7en) (1995)     0.349805\n",
       "2                        Pulp Fiction (1994)     0.328060\n",
       "3  Twelve Monkeys (a.k.a. 12 Monkeys) (1995)     0.327986\n",
       "4                              Snatch (2000)     0.326288\n",
       "5                  American History X (1998)     0.326111\n",
       "6                       Trainspotting (1996)     0.322369\n",
       "7   Lock, Stock & Two Smoking Barrels (1998)     0.319509\n",
       "8                             Memento (2000)     0.308780\n",
       "9                        Donnie Darko (2001)     0.305932"
      ]
     },
     "execution_count": 13,
     "metadata": {},
     "output_type": "execute_result"
    }
   ],
   "source": [
    "user_movie_df = create_user_movie_df()\n",
    "\n",
    "item_based_recommender(\"Fight Club (1999)\", user_movie_df, 10)"
   ]
  },
  {
   "cell_type": "code",
   "execution_count": 58,
   "metadata": {},
   "outputs": [
    {
     "data": {
      "text/plain": [
       "['Star Trek II: The Wrath of Khan (1982)',\n",
       " 'Star Trek III: The Search for Spock (1984)',\n",
       " 'Star Trek IV: The Voyage Home (1986)',\n",
       " 'Star Trek VI: The Undiscovered Country (1991)',\n",
       " 'Star Trek: First Contact (1996)',\n",
       " 'Star Trek: Generations (1994)',\n",
       " 'Star Wars: Episode I - The Phantom Menace (1999)',\n",
       " 'Star Wars: Episode II - Attack of the Clones (2002)',\n",
       " 'Star Wars: Episode III - Revenge of the Sith (2005)',\n",
       " 'Star Wars: Episode IV - A New Hope (1977)',\n",
       " 'Star Wars: Episode V - The Empire Strikes Back (1980)',\n",
       " 'Star Wars: Episode VI - Return of the Jedi (1983)',\n",
       " 'Stargate (1994)',\n",
       " 'Starship Troopers (1997)']"
      ]
     },
     "execution_count": 58,
     "metadata": {},
     "output_type": "execute_result"
    }
   ],
   "source": [
    "# this function helps to find the movie names\n",
    "def check_film(keyword, user_movie_df):\n",
    "    return [col for col in user_movie_df.columns if keyword in col]\n",
    "\n",
    "\n",
    "check_film(\"Star\", user_movie_df)"
   ]
  },
  {
   "attachments": {},
   "cell_type": "markdown",
   "metadata": {},
   "source": [
    "### 2.1.5. Evaluating the Recommendations"
   ]
  },
  {
   "cell_type": "code",
   "execution_count": 16,
   "metadata": {},
   "outputs": [
    {
     "data": {
      "text/plain": [
       "(2620, 4)"
      ]
     },
     "execution_count": 16,
     "metadata": {},
     "output_type": "execute_result"
    }
   ],
   "source": [
    "# Selecting a subset of 10 random users\n",
    "ids = np.random.choice(rating[\"userId\"], size=10, replace=False)\n",
    "rating_sample = pd.DataFrame(rating.loc[rating[\"userId\"].isin(ids)])\n",
    "rating_sample.shape\n"
   ]
  },
  {
   "cell_type": "code",
   "execution_count": 17,
   "metadata": {},
   "outputs": [
    {
     "data": {
      "text/html": [
       "<div>\n",
       "<style scoped>\n",
       "    .dataframe tbody tr th:only-of-type {\n",
       "        vertical-align: middle;\n",
       "    }\n",
       "\n",
       "    .dataframe tbody tr th {\n",
       "        vertical-align: top;\n",
       "    }\n",
       "\n",
       "    .dataframe thead th {\n",
       "        text-align: right;\n",
       "    }\n",
       "</style>\n",
       "<table border=\"1\" class=\"dataframe\">\n",
       "  <thead>\n",
       "    <tr style=\"text-align: right;\">\n",
       "      <th></th>\n",
       "      <th>userId</th>\n",
       "      <th>movieId</th>\n",
       "      <th>rating</th>\n",
       "      <th>timestamp</th>\n",
       "    </tr>\n",
       "  </thead>\n",
       "  <tbody>\n",
       "    <tr>\n",
       "      <th>2178254</th>\n",
       "      <td>14745</td>\n",
       "      <td>6</td>\n",
       "      <td>4.5</td>\n",
       "      <td>2006-09-09 18:43:30</td>\n",
       "    </tr>\n",
       "    <tr>\n",
       "      <th>2178255</th>\n",
       "      <td>14745</td>\n",
       "      <td>10</td>\n",
       "      <td>4.0</td>\n",
       "      <td>2006-09-09 18:42:42</td>\n",
       "    </tr>\n",
       "    <tr>\n",
       "      <th>2178256</th>\n",
       "      <td>14745</td>\n",
       "      <td>11</td>\n",
       "      <td>3.5</td>\n",
       "      <td>2005-09-28 13:55:34</td>\n",
       "    </tr>\n",
       "    <tr>\n",
       "      <th>2178257</th>\n",
       "      <td>14745</td>\n",
       "      <td>18</td>\n",
       "      <td>4.0</td>\n",
       "      <td>2005-09-28 13:49:33</td>\n",
       "    </tr>\n",
       "    <tr>\n",
       "      <th>2178258</th>\n",
       "      <td>14745</td>\n",
       "      <td>21</td>\n",
       "      <td>3.5</td>\n",
       "      <td>2005-09-28 13:47:26</td>\n",
       "    </tr>\n",
       "  </tbody>\n",
       "</table>\n",
       "</div>"
      ],
      "text/plain": [
       "         userId  movieId  rating            timestamp\n",
       "2178254   14745        6     4.5  2006-09-09 18:43:30\n",
       "2178255   14745       10     4.0  2006-09-09 18:42:42\n",
       "2178256   14745       11     3.5  2005-09-28 13:55:34\n",
       "2178257   14745       18     4.0  2005-09-28 13:49:33\n",
       "2178258   14745       21     3.5  2005-09-28 13:47:26"
      ]
     },
     "execution_count": 17,
     "metadata": {},
     "output_type": "execute_result"
    }
   ],
   "source": [
    "rating_sample.head()"
   ]
  },
  {
   "cell_type": "code",
   "execution_count": 18,
   "metadata": {},
   "outputs": [],
   "source": [
    "def create_df_for_plotting_2(movielist, dataframe):\n",
    "    plot_df = pd.DataFrame()\n",
    "\n",
    "    for movie in movielist:\n",
    "        movie_df = item_based_recommender(movie, user_movie_df, dataframe.shape[0])\n",
    "        movie_df['rec_number'] = range(1, len(movie_df) + 1)\n",
    "        movie_df = pd.merge(movie_df, dataframe[['title', 'movieId']], how = 'left', on = 'title').drop_duplicates()\n",
    "        movie_df = movie_df.merge(rating_sample)\n",
    "        movie_df = pd.DataFrame(movie_df.loc[movie_df[\"userId\"].isin(ids)])\n",
    "        movie_df['movie'] = movie\n",
    "\n",
    "        plot_df = pd.concat([plot_df, movie_df])\n",
    "\n",
    "    return plot_df"
   ]
  },
  {
   "cell_type": "code",
   "execution_count": 19,
   "metadata": {},
   "outputs": [],
   "source": [
    "plot_df_ib = create_df_for_plotting_2([\"Star Wars: Episode IV - A New Hope (1977)\", \"Fight Club (1999)\", \"Toy Story (1995)\", \"Princess Bride, The (1987)\"], df3)   "
   ]
  },
  {
   "cell_type": "code",
   "execution_count": 20,
   "metadata": {},
   "outputs": [
    {
     "data": {
      "text/html": [
       "<div>\n",
       "<style scoped>\n",
       "    .dataframe tbody tr th:only-of-type {\n",
       "        vertical-align: middle;\n",
       "    }\n",
       "\n",
       "    .dataframe tbody tr th {\n",
       "        vertical-align: top;\n",
       "    }\n",
       "\n",
       "    .dataframe thead th {\n",
       "        text-align: right;\n",
       "    }\n",
       "</style>\n",
       "<table border=\"1\" class=\"dataframe\">\n",
       "  <thead>\n",
       "    <tr style=\"text-align: right;\">\n",
       "      <th></th>\n",
       "      <th>title</th>\n",
       "      <th>correlation</th>\n",
       "      <th>rec_number</th>\n",
       "      <th>movieId</th>\n",
       "      <th>userId</th>\n",
       "      <th>rating</th>\n",
       "      <th>timestamp</th>\n",
       "      <th>movie</th>\n",
       "    </tr>\n",
       "  </thead>\n",
       "  <tbody>\n",
       "    <tr>\n",
       "      <th>0</th>\n",
       "      <td>Star Wars: Episode IV - A New Hope (1977)</td>\n",
       "      <td>1.000000</td>\n",
       "      <td>1</td>\n",
       "      <td>260</td>\n",
       "      <td>14745</td>\n",
       "      <td>4.0</td>\n",
       "      <td>2005-09-28 02:22:22</td>\n",
       "      <td>Star Wars: Episode IV - A New Hope (1977)</td>\n",
       "    </tr>\n",
       "    <tr>\n",
       "      <th>1</th>\n",
       "      <td>Star Wars: Episode IV - A New Hope (1977)</td>\n",
       "      <td>1.000000</td>\n",
       "      <td>1</td>\n",
       "      <td>260</td>\n",
       "      <td>20387</td>\n",
       "      <td>5.0</td>\n",
       "      <td>1997-04-02 09:54:33</td>\n",
       "      <td>Star Wars: Episode IV - A New Hope (1977)</td>\n",
       "    </tr>\n",
       "    <tr>\n",
       "      <th>2</th>\n",
       "      <td>Star Wars: Episode IV - A New Hope (1977)</td>\n",
       "      <td>1.000000</td>\n",
       "      <td>1</td>\n",
       "      <td>260</td>\n",
       "      <td>27141</td>\n",
       "      <td>4.5</td>\n",
       "      <td>2008-11-06 08:43:05</td>\n",
       "      <td>Star Wars: Episode IV - A New Hope (1977)</td>\n",
       "    </tr>\n",
       "    <tr>\n",
       "      <th>3</th>\n",
       "      <td>Star Wars: Episode IV - A New Hope (1977)</td>\n",
       "      <td>1.000000</td>\n",
       "      <td>1</td>\n",
       "      <td>260</td>\n",
       "      <td>63905</td>\n",
       "      <td>4.5</td>\n",
       "      <td>2008-11-06 07:11:15</td>\n",
       "      <td>Star Wars: Episode IV - A New Hope (1977)</td>\n",
       "    </tr>\n",
       "    <tr>\n",
       "      <th>4</th>\n",
       "      <td>Star Wars: Episode IV - A New Hope (1977)</td>\n",
       "      <td>1.000000</td>\n",
       "      <td>1</td>\n",
       "      <td>260</td>\n",
       "      <td>89209</td>\n",
       "      <td>5.0</td>\n",
       "      <td>2005-03-02 18:53:11</td>\n",
       "      <td>Star Wars: Episode IV - A New Hope (1977)</td>\n",
       "    </tr>\n",
       "    <tr>\n",
       "      <th>...</th>\n",
       "      <td>...</td>\n",
       "      <td>...</td>\n",
       "      <td>...</td>\n",
       "      <td>...</td>\n",
       "      <td>...</td>\n",
       "      <td>...</td>\n",
       "      <td>...</td>\n",
       "      <td>...</td>\n",
       "    </tr>\n",
       "    <tr>\n",
       "      <th>1107</th>\n",
       "      <td>Alien³ (a.k.a. Alien 3) (1992)</td>\n",
       "      <td>0.024470</td>\n",
       "      <td>461</td>\n",
       "      <td>1320</td>\n",
       "      <td>33748</td>\n",
       "      <td>4.0</td>\n",
       "      <td>2001-08-04 20:59:45</td>\n",
       "      <td>Princess Bride, The (1987)</td>\n",
       "    </tr>\n",
       "    <tr>\n",
       "      <th>1108</th>\n",
       "      <td>Alien³ (a.k.a. Alien 3) (1992)</td>\n",
       "      <td>0.024470</td>\n",
       "      <td>461</td>\n",
       "      <td>1320</td>\n",
       "      <td>89209</td>\n",
       "      <td>4.0</td>\n",
       "      <td>2005-03-02 18:47:03</td>\n",
       "      <td>Princess Bride, The (1987)</td>\n",
       "    </tr>\n",
       "    <tr>\n",
       "      <th>1109</th>\n",
       "      <td>Alien³ (a.k.a. Alien 3) (1992)</td>\n",
       "      <td>0.024470</td>\n",
       "      <td>461</td>\n",
       "      <td>1320</td>\n",
       "      <td>129839</td>\n",
       "      <td>3.0</td>\n",
       "      <td>1997-03-25 11:04:47</td>\n",
       "      <td>Princess Bride, The (1987)</td>\n",
       "    </tr>\n",
       "    <tr>\n",
       "      <th>1110</th>\n",
       "      <td>Eyes Wide Shut (1999)</td>\n",
       "      <td>-0.010677</td>\n",
       "      <td>462</td>\n",
       "      <td>2712</td>\n",
       "      <td>27141</td>\n",
       "      <td>3.0</td>\n",
       "      <td>2008-11-06 13:59:16</td>\n",
       "      <td>Princess Bride, The (1987)</td>\n",
       "    </tr>\n",
       "    <tr>\n",
       "      <th>1111</th>\n",
       "      <td>Eyes Wide Shut (1999)</td>\n",
       "      <td>-0.010677</td>\n",
       "      <td>462</td>\n",
       "      <td>2712</td>\n",
       "      <td>49427</td>\n",
       "      <td>3.0</td>\n",
       "      <td>2000-12-01 19:56:18</td>\n",
       "      <td>Princess Bride, The (1987)</td>\n",
       "    </tr>\n",
       "  </tbody>\n",
       "</table>\n",
       "<p>4448 rows × 8 columns</p>\n",
       "</div>"
      ],
      "text/plain": [
       "                                          title  correlation  rec_number  movieId  userId  rating            timestamp                                      movie\n",
       "0     Star Wars: Episode IV - A New Hope (1977)     1.000000           1      260   14745     4.0  2005-09-28 02:22:22  Star Wars: Episode IV - A New Hope (1977)\n",
       "1     Star Wars: Episode IV - A New Hope (1977)     1.000000           1      260   20387     5.0  1997-04-02 09:54:33  Star Wars: Episode IV - A New Hope (1977)\n",
       "2     Star Wars: Episode IV - A New Hope (1977)     1.000000           1      260   27141     4.5  2008-11-06 08:43:05  Star Wars: Episode IV - A New Hope (1977)\n",
       "3     Star Wars: Episode IV - A New Hope (1977)     1.000000           1      260   63905     4.5  2008-11-06 07:11:15  Star Wars: Episode IV - A New Hope (1977)\n",
       "4     Star Wars: Episode IV - A New Hope (1977)     1.000000           1      260   89209     5.0  2005-03-02 18:53:11  Star Wars: Episode IV - A New Hope (1977)\n",
       "...                                         ...          ...         ...      ...     ...     ...                  ...                                        ...\n",
       "1107             Alien³ (a.k.a. Alien 3) (1992)     0.024470         461     1320   33748     4.0  2001-08-04 20:59:45                 Princess Bride, The (1987)\n",
       "1108             Alien³ (a.k.a. Alien 3) (1992)     0.024470         461     1320   89209     4.0  2005-03-02 18:47:03                 Princess Bride, The (1987)\n",
       "1109             Alien³ (a.k.a. Alien 3) (1992)     0.024470         461     1320  129839     3.0  1997-03-25 11:04:47                 Princess Bride, The (1987)\n",
       "1110                      Eyes Wide Shut (1999)    -0.010677         462     2712   27141     3.0  2008-11-06 13:59:16                 Princess Bride, The (1987)\n",
       "1111                      Eyes Wide Shut (1999)    -0.010677         462     2712   49427     3.0  2000-12-01 19:56:18                 Princess Bride, The (1987)\n",
       "\n",
       "[4448 rows x 8 columns]"
      ]
     },
     "execution_count": 20,
     "metadata": {},
     "output_type": "execute_result"
    }
   ],
   "source": [
    "plot_df_ib"
   ]
  },
  {
   "cell_type": "code",
   "execution_count": 23,
   "metadata": {},
   "outputs": [
    {
     "data": {
      "text/plain": [
       "<seaborn.axisgrid.FacetGrid at 0x170539250>"
      ]
     },
     "execution_count": 23,
     "metadata": {},
     "output_type": "execute_result"
    },
    {
     "data": {
      "image/png": "[encoded data removed]",
      "text/plain": [
       "<Figure size 2103x500 with 4 Axes>"
      ]
     },
     "metadata": {},
     "output_type": "display_data"
    }
   ],
   "source": [
    "plot_ratings(plot_df_ib)"
   ]
  },
  {
   "attachments": {},
   "cell_type": "markdown",
   "metadata": {},
   "source": [
    "## 2.2. User-Based Collaborative Filtering"
   ]
  },
  {
   "attachments": {},
   "cell_type": "markdown",
   "metadata": {},
   "source": [
    "For this approach, movie recommendations are made based on similarities between different users.\n",
    "\n",
    "In section 2.2. we will be:\n",
    "\n",
    "1) Preparing the dataset\n",
    "2) Determining which movies the user of interest has already watched\n",
    "3) Accessing the data from other users who watched the same movies\n",
    "4) Identifying other users, who display similar behaviour to our user of interest, to suggest\n",
    "5) Calculating the weighted average recommendation score\n"
   ]
  },
  {
   "attachments": {},
   "cell_type": "markdown",
   "metadata": {},
   "source": [
    "### 2.2.1. Data preprocessing\n",
    "We will still be using the user_movie_df matrix that we defined in previous sections."
   ]
  },
  {
   "cell_type": "code",
   "execution_count": null,
   "metadata": {},
   "outputs": [],
   "source": [
    "user_movie_df.head(3)"
   ]
  },
  {
   "cell_type": "code",
   "execution_count": 142,
   "metadata": {},
   "outputs": [
    {
     "data": {
      "text/plain": [
       "[8362, 134438, 83269, 15007]"
      ]
     },
     "execution_count": 142,
     "metadata": {},
     "output_type": "execute_result"
    }
   ],
   "source": [
    "# We begin by defining a random user in the dataset\n",
    "random_user = int(pd.Series(user_movie_df.index).sample(1, random_state=35).values)\n",
    "\n",
    "random_users"
   ]
  },
  {
   "attachments": {},
   "cell_type": "markdown",
   "metadata": {},
   "source": [
    "### 2.2.2. Determining the movies that our random user has watched in order to make a suggestion"
   ]
  },
  {
   "cell_type": "code",
   "execution_count": null,
   "metadata": {},
   "outputs": [
    {
     "data": {
      "text/html": [
       "<div>\n",
       "<style scoped>\n",
       "    .dataframe tbody tr th:only-of-type {\n",
       "        vertical-align: middle;\n",
       "    }\n",
       "\n",
       "    .dataframe tbody tr th {\n",
       "        vertical-align: top;\n",
       "    }\n",
       "\n",
       "    .dataframe thead th {\n",
       "        text-align: right;\n",
       "    }\n",
       "</style>\n",
       "<table border=\"1\" class=\"dataframe\">\n",
       "  <thead>\n",
       "    <tr style=\"text-align: right;\">\n",
       "      <th>title</th>\n",
       "      <th>10 Things I Hate About You (1999)</th>\n",
       "      <th>12 Angry Men (1957)</th>\n",
       "      <th>2001: A Space Odyssey (1968)</th>\n",
       "      <th>28 Days Later (2002)</th>\n",
       "      <th>300 (2007)</th>\n",
       "      <th>A.I. Artificial Intelligence (2001)</th>\n",
       "      <th>Abyss, The (1989)</th>\n",
       "      <th>Ace Ventura: Pet Detective (1994)</th>\n",
       "      <th>Ace Ventura: When Nature Calls (1995)</th>\n",
       "      <th>Addams Family Values (1993)</th>\n",
       "      <th>...</th>\n",
       "      <th>Wild Wild West (1999)</th>\n",
       "      <th>William Shakespeare's Romeo + Juliet (1996)</th>\n",
       "      <th>Willy Wonka &amp; the Chocolate Factory (1971)</th>\n",
       "      <th>Witness (1985)</th>\n",
       "      <th>Wizard of Oz, The (1939)</th>\n",
       "      <th>X-Files: Fight the Future, The (1998)</th>\n",
       "      <th>X-Men (2000)</th>\n",
       "      <th>X2: X-Men United (2003)</th>\n",
       "      <th>You've Got Mail (1998)</th>\n",
       "      <th>Young Frankenstein (1974)</th>\n",
       "    </tr>\n",
       "    <tr>\n",
       "      <th>userId</th>\n",
       "      <th></th>\n",
       "      <th></th>\n",
       "      <th></th>\n",
       "      <th></th>\n",
       "      <th></th>\n",
       "      <th></th>\n",
       "      <th></th>\n",
       "      <th></th>\n",
       "      <th></th>\n",
       "      <th></th>\n",
       "      <th></th>\n",
       "      <th></th>\n",
       "      <th></th>\n",
       "      <th></th>\n",
       "      <th></th>\n",
       "      <th></th>\n",
       "      <th></th>\n",
       "      <th></th>\n",
       "      <th></th>\n",
       "      <th></th>\n",
       "      <th></th>\n",
       "    </tr>\n",
       "  </thead>\n",
       "  <tbody>\n",
       "    <tr>\n",
       "      <th>8362.0</th>\n",
       "      <td>NaN</td>\n",
       "      <td>NaN</td>\n",
       "      <td>NaN</td>\n",
       "      <td>NaN</td>\n",
       "      <td>NaN</td>\n",
       "      <td>NaN</td>\n",
       "      <td>NaN</td>\n",
       "      <td>1.0</td>\n",
       "      <td>1.0</td>\n",
       "      <td>3.0</td>\n",
       "      <td>...</td>\n",
       "      <td>NaN</td>\n",
       "      <td>NaN</td>\n",
       "      <td>NaN</td>\n",
       "      <td>NaN</td>\n",
       "      <td>NaN</td>\n",
       "      <td>NaN</td>\n",
       "      <td>NaN</td>\n",
       "      <td>NaN</td>\n",
       "      <td>NaN</td>\n",
       "      <td>NaN</td>\n",
       "    </tr>\n",
       "  </tbody>\n",
       "</table>\n",
       "<p>1 rows × 462 columns</p>\n",
       "</div>"
      ],
      "text/plain": [
       "title   10 Things I Hate About You (1999)  12 Angry Men (1957)  2001: A Space Odyssey (1968)  28 Days Later (2002)  300 (2007)  A.I. Artificial Intelligence (2001)  Abyss, The (1989)  Ace Ventura: Pet Detective (1994)  Ace Ventura: When Nature Calls (1995)  Addams Family Values (1993)  ...  Wild Wild West (1999)  William Shakespeare's Romeo + Juliet (1996)  Willy Wonka & the Chocolate Factory (1971)  Witness (1985)  Wizard of Oz, The (1939)  X-Files: Fight the Future, The (1998)  X-Men (2000)  X2: X-Men United (2003)  You've Got Mail (1998)  Young Frankenstein (1974)\n",
       "userId                                                                                                                                                                                                                                                                                         ...                                                                                                                                                                                                                                                                                           \n",
       "8362.0                                NaN                  NaN                           NaN                   NaN         NaN                                  NaN                NaN                                1.0                                    1.0                          3.0  ...                    NaN                                          NaN                                         NaN             NaN                       NaN                                    NaN           NaN                      NaN                     NaN                        NaN\n",
       "\n",
       "[1 rows x 462 columns]"
      ]
     },
     "execution_count": 28,
     "metadata": {},
     "output_type": "execute_result"
    }
   ],
   "source": [
    "# we selected the random_user's movie here\n",
    "random_user_df = user_movie_df[user_movie_df.index == random_user]\n",
    "random_user_df # This is a df containing the random user's rating for \n",
    "# ... all 462 movies in the data. Many of them have NaN values, because\n",
    "# ... they have not been rated by this user."
   ]
  },
  {
   "cell_type": "code",
   "execution_count": null,
   "metadata": {},
   "outputs": [],
   "source": [
    "# Taking out all NaN to make a list of the movies watched by this user\n",
    "movies_watched = random_user_df.columns[random_user_df.notna().any()].tolist()"
   ]
  },
  {
   "cell_type": "code",
   "execution_count": null,
   "metadata": {},
   "outputs": [
    {
     "data": {
      "text/plain": [
       "50"
      ]
     },
     "execution_count": 30,
     "metadata": {},
     "output_type": "execute_result"
    }
   ],
   "source": [
    "# how many movies did he watch\n",
    "len(movies_watched)"
   ]
  },
  {
   "attachments": {},
   "cell_type": "markdown",
   "metadata": {},
   "source": [
    "### 2.2.3. Accessing the data and IDs of other users watching the same movies"
   ]
  },
  {
   "cell_type": "code",
   "execution_count": null,
   "metadata": {},
   "outputs": [
    {
     "data": {
      "text/html": [
       "<div>\n",
       "<style scoped>\n",
       "    .dataframe tbody tr th:only-of-type {\n",
       "        vertical-align: middle;\n",
       "    }\n",
       "\n",
       "    .dataframe tbody tr th {\n",
       "        vertical-align: top;\n",
       "    }\n",
       "\n",
       "    .dataframe thead th {\n",
       "        text-align: right;\n",
       "    }\n",
       "</style>\n",
       "<table border=\"1\" class=\"dataframe\">\n",
       "  <thead>\n",
       "    <tr style=\"text-align: right;\">\n",
       "      <th>title</th>\n",
       "      <th>Ace Ventura: Pet Detective (1994)</th>\n",
       "      <th>Ace Ventura: When Nature Calls (1995)</th>\n",
       "      <th>Addams Family Values (1993)</th>\n",
       "      <th>Aladdin (1992)</th>\n",
       "      <th>Apollo 13 (1995)</th>\n",
       "      <th>Batman (1989)</th>\n",
       "      <th>Birdcage, The (1996)</th>\n",
       "      <th>City Slickers II: The Legend of Curly's Gold (1994)</th>\n",
       "      <th>Clear and Present Danger (1994)</th>\n",
       "      <th>Clerks (1994)</th>\n",
       "      <th>...</th>\n",
       "      <th>Sleepless in Seattle (1993)</th>\n",
       "      <th>Specialist, The (1994)</th>\n",
       "      <th>Star Trek: Generations (1994)</th>\n",
       "      <th>Stargate (1994)</th>\n",
       "      <th>Taxi Driver (1976)</th>\n",
       "      <th>Terminator 2: Judgment Day (1991)</th>\n",
       "      <th>Tombstone (1993)</th>\n",
       "      <th>Twelve Monkeys (a.k.a. 12 Monkeys) (1995)</th>\n",
       "      <th>Usual Suspects, The (1995)</th>\n",
       "      <th>Waterworld (1995)</th>\n",
       "    </tr>\n",
       "    <tr>\n",
       "      <th>userId</th>\n",
       "      <th></th>\n",
       "      <th></th>\n",
       "      <th></th>\n",
       "      <th></th>\n",
       "      <th></th>\n",
       "      <th></th>\n",
       "      <th></th>\n",
       "      <th></th>\n",
       "      <th></th>\n",
       "      <th></th>\n",
       "      <th></th>\n",
       "      <th></th>\n",
       "      <th></th>\n",
       "      <th></th>\n",
       "      <th></th>\n",
       "      <th></th>\n",
       "      <th></th>\n",
       "      <th></th>\n",
       "      <th></th>\n",
       "      <th></th>\n",
       "      <th></th>\n",
       "    </tr>\n",
       "  </thead>\n",
       "  <tbody>\n",
       "    <tr>\n",
       "      <th>1.0</th>\n",
       "      <td>NaN</td>\n",
       "      <td>NaN</td>\n",
       "      <td>NaN</td>\n",
       "      <td>NaN</td>\n",
       "      <td>NaN</td>\n",
       "      <td>NaN</td>\n",
       "      <td>NaN</td>\n",
       "      <td>NaN</td>\n",
       "      <td>NaN</td>\n",
       "      <td>4.0</td>\n",
       "      <td>...</td>\n",
       "      <td>NaN</td>\n",
       "      <td>NaN</td>\n",
       "      <td>NaN</td>\n",
       "      <td>NaN</td>\n",
       "      <td>NaN</td>\n",
       "      <td>3.5</td>\n",
       "      <td>NaN</td>\n",
       "      <td>3.5</td>\n",
       "      <td>3.5</td>\n",
       "      <td>NaN</td>\n",
       "    </tr>\n",
       "    <tr>\n",
       "      <th>2.0</th>\n",
       "      <td>NaN</td>\n",
       "      <td>NaN</td>\n",
       "      <td>NaN</td>\n",
       "      <td>NaN</td>\n",
       "      <td>NaN</td>\n",
       "      <td>NaN</td>\n",
       "      <td>NaN</td>\n",
       "      <td>NaN</td>\n",
       "      <td>NaN</td>\n",
       "      <td>NaN</td>\n",
       "      <td>...</td>\n",
       "      <td>NaN</td>\n",
       "      <td>NaN</td>\n",
       "      <td>NaN</td>\n",
       "      <td>NaN</td>\n",
       "      <td>NaN</td>\n",
       "      <td>5.0</td>\n",
       "      <td>NaN</td>\n",
       "      <td>NaN</td>\n",
       "      <td>NaN</td>\n",
       "      <td>NaN</td>\n",
       "    </tr>\n",
       "    <tr>\n",
       "      <th>3.0</th>\n",
       "      <td>NaN</td>\n",
       "      <td>NaN</td>\n",
       "      <td>NaN</td>\n",
       "      <td>NaN</td>\n",
       "      <td>NaN</td>\n",
       "      <td>NaN</td>\n",
       "      <td>NaN</td>\n",
       "      <td>NaN</td>\n",
       "      <td>NaN</td>\n",
       "      <td>5.0</td>\n",
       "      <td>...</td>\n",
       "      <td>NaN</td>\n",
       "      <td>NaN</td>\n",
       "      <td>5.0</td>\n",
       "      <td>5.0</td>\n",
       "      <td>NaN</td>\n",
       "      <td>4.0</td>\n",
       "      <td>NaN</td>\n",
       "      <td>4.0</td>\n",
       "      <td>5.0</td>\n",
       "      <td>NaN</td>\n",
       "    </tr>\n",
       "    <tr>\n",
       "      <th>4.0</th>\n",
       "      <td>NaN</td>\n",
       "      <td>3.0</td>\n",
       "      <td>NaN</td>\n",
       "      <td>NaN</td>\n",
       "      <td>NaN</td>\n",
       "      <td>NaN</td>\n",
       "      <td>NaN</td>\n",
       "      <td>NaN</td>\n",
       "      <td>NaN</td>\n",
       "      <td>NaN</td>\n",
       "      <td>...</td>\n",
       "      <td>NaN</td>\n",
       "      <td>NaN</td>\n",
       "      <td>3.0</td>\n",
       "      <td>NaN</td>\n",
       "      <td>NaN</td>\n",
       "      <td>4.0</td>\n",
       "      <td>NaN</td>\n",
       "      <td>1.0</td>\n",
       "      <td>NaN</td>\n",
       "      <td>NaN</td>\n",
       "    </tr>\n",
       "    <tr>\n",
       "      <th>5.0</th>\n",
       "      <td>NaN</td>\n",
       "      <td>NaN</td>\n",
       "      <td>NaN</td>\n",
       "      <td>5.0</td>\n",
       "      <td>5.0</td>\n",
       "      <td>NaN</td>\n",
       "      <td>5.0</td>\n",
       "      <td>NaN</td>\n",
       "      <td>NaN</td>\n",
       "      <td>NaN</td>\n",
       "      <td>...</td>\n",
       "      <td>NaN</td>\n",
       "      <td>NaN</td>\n",
       "      <td>NaN</td>\n",
       "      <td>4.0</td>\n",
       "      <td>NaN</td>\n",
       "      <td>5.0</td>\n",
       "      <td>NaN</td>\n",
       "      <td>NaN</td>\n",
       "      <td>NaN</td>\n",
       "      <td>NaN</td>\n",
       "    </tr>\n",
       "  </tbody>\n",
       "</table>\n",
       "<p>5 rows × 50 columns</p>\n",
       "</div>"
      ],
      "text/plain": [
       "title   Ace Ventura: Pet Detective (1994)  Ace Ventura: When Nature Calls (1995)  Addams Family Values (1993)  Aladdin (1992)  Apollo 13 (1995)  Batman (1989)  Birdcage, The (1996)  City Slickers II: The Legend of Curly's Gold (1994)  Clear and Present Danger (1994)  Clerks (1994)  ...  Sleepless in Seattle (1993)  Specialist, The (1994)  Star Trek: Generations (1994)  Stargate (1994)  Taxi Driver (1976)  Terminator 2: Judgment Day (1991)  Tombstone (1993)  Twelve Monkeys (a.k.a. 12 Monkeys) (1995)  Usual Suspects, The (1995)  Waterworld (1995)\n",
       "userId                                                                                                                                                                                                                                                                                     ...                                                                                                                                                                                                                                                                        \n",
       "1.0                                   NaN                                    NaN                          NaN             NaN               NaN            NaN                   NaN                                                NaN                                NaN            4.0  ...                          NaN                     NaN                            NaN              NaN                 NaN                                3.5               NaN                                        3.5                         3.5                NaN\n",
       "2.0                                   NaN                                    NaN                          NaN             NaN               NaN            NaN                   NaN                                                NaN                                NaN            NaN  ...                          NaN                     NaN                            NaN              NaN                 NaN                                5.0               NaN                                        NaN                         NaN                NaN\n",
       "3.0                                   NaN                                    NaN                          NaN             NaN               NaN            NaN                   NaN                                                NaN                                NaN            5.0  ...                          NaN                     NaN                            5.0              5.0                 NaN                                4.0               NaN                                        4.0                         5.0                NaN\n",
       "4.0                                   NaN                                    3.0                          NaN             NaN               NaN            NaN                   NaN                                                NaN                                NaN            NaN  ...                          NaN                     NaN                            3.0              NaN                 NaN                                4.0               NaN                                        1.0                         NaN                NaN\n",
       "5.0                                   NaN                                    NaN                          NaN             5.0               5.0            NaN                   5.0                                                NaN                                NaN            NaN  ...                          NaN                     NaN                            NaN              4.0                 NaN                                5.0               NaN                                        NaN                         NaN                NaN\n",
       "\n",
       "[5 rows x 50 columns]"
      ]
     },
     "execution_count": 31,
     "metadata": {},
     "output_type": "execute_result"
    }
   ],
   "source": [
    "# random user's movies \n",
    "movies_watched_df = user_movie_df[movies_watched]\n",
    "movies_watched_df.head()"
   ]
  },
  {
   "cell_type": "code",
   "execution_count": null,
   "metadata": {},
   "outputs": [
    {
     "data": {
      "text/plain": [
       "(137658, 50)"
      ]
     },
     "execution_count": 32,
     "metadata": {},
     "output_type": "execute_result"
    }
   ],
   "source": [
    "# Number of people who watched at least one movie in common with random user. 137658 people watched at least on movie, common movies count 191\n",
    "movies_watched_df.shape"
   ]
  },
  {
   "attachments": {},
   "cell_type": "markdown",
   "metadata": {},
   "source": [
    "This shows us that there are lots of people who have at least one movie in common, however, we are going to need a threshold here. Now, we set a threshold for users who have at least xxx movies in common."
   ]
  },
  {
   "cell_type": "code",
   "execution_count": null,
   "metadata": {},
   "outputs": [
    {
     "data": {
      "text/html": [
       "<div>\n",
       "<style scoped>\n",
       "    .dataframe tbody tr th:only-of-type {\n",
       "        vertical-align: middle;\n",
       "    }\n",
       "\n",
       "    .dataframe tbody tr th {\n",
       "        vertical-align: top;\n",
       "    }\n",
       "\n",
       "    .dataframe thead th {\n",
       "        text-align: right;\n",
       "    }\n",
       "</style>\n",
       "<table border=\"1\" class=\"dataframe\">\n",
       "  <thead>\n",
       "    <tr style=\"text-align: right;\">\n",
       "      <th></th>\n",
       "      <th>userId</th>\n",
       "      <th>movie_count</th>\n",
       "    </tr>\n",
       "  </thead>\n",
       "  <tbody>\n",
       "    <tr>\n",
       "      <th>0</th>\n",
       "      <td>1.0</td>\n",
       "      <td>12</td>\n",
       "    </tr>\n",
       "    <tr>\n",
       "      <th>1</th>\n",
       "      <td>2.0</td>\n",
       "      <td>3</td>\n",
       "    </tr>\n",
       "    <tr>\n",
       "      <th>2</th>\n",
       "      <td>3.0</td>\n",
       "      <td>12</td>\n",
       "    </tr>\n",
       "    <tr>\n",
       "      <th>3</th>\n",
       "      <td>4.0</td>\n",
       "      <td>10</td>\n",
       "    </tr>\n",
       "    <tr>\n",
       "      <th>4</th>\n",
       "      <td>5.0</td>\n",
       "      <td>18</td>\n",
       "    </tr>\n",
       "  </tbody>\n",
       "</table>\n",
       "</div>"
      ],
      "text/plain": [
       "   userId  movie_count\n",
       "0     1.0           12\n",
       "1     2.0            3\n",
       "2     3.0           12\n",
       "3     4.0           10\n",
       "4     5.0           18"
      ]
     },
     "execution_count": 33,
     "metadata": {},
     "output_type": "execute_result"
    }
   ],
   "source": [
    "# user_movie_count indicates how many movies each user watched\n",
    "# notnull gives us binary output (1 or 0) if we don't do that, the ratings count, like 3.0 + 4.0 = 7.0\n",
    "user_movie_count = movies_watched_df.T.notnull().sum()\n",
    "\n",
    "# moving user_movie_count in the columns\n",
    "user_movie_count = user_movie_count.reset_index()\n",
    "\n",
    "user_movie_count.columns = [\"userId\", \"movie_count\"]\n",
    "user_movie_count.head()"
   ]
  },
  {
   "cell_type": "code",
   "execution_count": null,
   "metadata": {},
   "outputs": [
    {
     "data": {
      "text/html": [
       "<div>\n",
       "<style scoped>\n",
       "    .dataframe tbody tr th:only-of-type {\n",
       "        vertical-align: middle;\n",
       "    }\n",
       "\n",
       "    .dataframe tbody tr th {\n",
       "        vertical-align: top;\n",
       "    }\n",
       "\n",
       "    .dataframe thead th {\n",
       "        text-align: right;\n",
       "    }\n",
       "</style>\n",
       "<table border=\"1\" class=\"dataframe\">\n",
       "  <thead>\n",
       "    <tr style=\"text-align: right;\">\n",
       "      <th></th>\n",
       "      <th>userId</th>\n",
       "      <th>movie_count</th>\n",
       "    </tr>\n",
       "  </thead>\n",
       "  <tbody>\n",
       "    <tr>\n",
       "      <th>37016</th>\n",
       "      <td>37253.0</td>\n",
       "      <td>50</td>\n",
       "    </tr>\n",
       "    <tr>\n",
       "      <th>59785</th>\n",
       "      <td>60159.0</td>\n",
       "      <td>50</td>\n",
       "    </tr>\n",
       "    <tr>\n",
       "      <th>87180</th>\n",
       "      <td>87718.0</td>\n",
       "      <td>50</td>\n",
       "    </tr>\n",
       "    <tr>\n",
       "      <th>92547</th>\n",
       "      <td>93113.0</td>\n",
       "      <td>50</td>\n",
       "    </tr>\n",
       "    <tr>\n",
       "      <th>39914</th>\n",
       "      <td>40167.0</td>\n",
       "      <td>50</td>\n",
       "    </tr>\n",
       "    <tr>\n",
       "      <th>...</th>\n",
       "      <td>...</td>\n",
       "      <td>...</td>\n",
       "    </tr>\n",
       "    <tr>\n",
       "      <th>44215</th>\n",
       "      <td>44492.0</td>\n",
       "      <td>41</td>\n",
       "    </tr>\n",
       "    <tr>\n",
       "      <th>74157</th>\n",
       "      <td>74611.0</td>\n",
       "      <td>41</td>\n",
       "    </tr>\n",
       "    <tr>\n",
       "      <th>44912</th>\n",
       "      <td>45194.0</td>\n",
       "      <td>41</td>\n",
       "    </tr>\n",
       "    <tr>\n",
       "      <th>74022</th>\n",
       "      <td>74476.0</td>\n",
       "      <td>41</td>\n",
       "    </tr>\n",
       "    <tr>\n",
       "      <th>122085</th>\n",
       "      <td>122817.0</td>\n",
       "      <td>41</td>\n",
       "    </tr>\n",
       "  </tbody>\n",
       "</table>\n",
       "<p>2565 rows × 2 columns</p>\n",
       "</div>"
      ],
      "text/plain": [
       "          userId  movie_count\n",
       "37016    37253.0           50\n",
       "59785    60159.0           50\n",
       "87180    87718.0           50\n",
       "92547    93113.0           50\n",
       "39914    40167.0           50\n",
       "...          ...          ...\n",
       "44215    44492.0           41\n",
       "74157    74611.0           41\n",
       "44912    45194.0           41\n",
       "74022    74476.0           41\n",
       "122085  122817.0           41\n",
       "\n",
       "[2565 rows x 2 columns]"
      ]
     },
     "execution_count": 34,
     "metadata": {},
     "output_type": "execute_result"
    }
   ],
   "source": [
    "# 40 treshold in common movies\n",
    "user_movie_count[user_movie_count[\"movie_count\"] > 40].sort_values(\"movie_count\", ascending=False)"
   ]
  },
  {
   "cell_type": "code",
   "execution_count": null,
   "metadata": {},
   "outputs": [
    {
     "data": {
      "text/plain": [
       "userId         67\n",
       "movie_count    67\n",
       "dtype: int64"
      ]
     },
     "execution_count": 35,
     "metadata": {},
     "output_type": "execute_result"
    }
   ],
   "source": [
    "# Now, we can check to see how many people have watched the same movies as out random user (he watched 50 movies )\n",
    "# there is one person watching the same movies\n",
    "user_movie_count[user_movie_count[\"movie_count\"] == 50].count()"
   ]
  },
  {
   "cell_type": "code",
   "execution_count": null,
   "metadata": {},
   "outputs": [
    {
     "data": {
      "text/plain": [
       "2565"
      ]
     },
     "execution_count": 36,
     "metadata": {},
     "output_type": "execute_result"
    }
   ],
   "source": [
    "# let's bring users id watching the same movies\n",
    "users_same_movies = user_movie_count[user_movie_count[\"movie_count\"] > 40][\"userId\"]\n",
    "users_same_movies.head()\n",
    "\n",
    "users_same_movies.count()"
   ]
  },
  {
   "attachments": {},
   "cell_type": "markdown",
   "metadata": {},
   "source": [
    "### 2.2.4. Identifying other users who behave similarily to our user of interest"
   ]
  },
  {
   "attachments": {},
   "cell_type": "markdown",
   "metadata": {},
   "source": [
    "In order to do this, we have three steps to go through:\n",
    "1) aggregating the data from our random user and other users\n",
    "2) creating a correlation dataframe\n",
    "3) finding the most similar users (Top Users)"
   ]
  },
  {
   "cell_type": "code",
   "execution_count": null,
   "metadata": {},
   "outputs": [
    {
     "name": "stdout",
     "output_type": "stream",
     "text": [
      "(2566, 50)\n"
     ]
    },
    {
     "data": {
      "text/html": [
       "<div>\n",
       "<style scoped>\n",
       "    .dataframe tbody tr th:only-of-type {\n",
       "        vertical-align: middle;\n",
       "    }\n",
       "\n",
       "    .dataframe tbody tr th {\n",
       "        vertical-align: top;\n",
       "    }\n",
       "\n",
       "    .dataframe thead th {\n",
       "        text-align: right;\n",
       "    }\n",
       "</style>\n",
       "<table border=\"1\" class=\"dataframe\">\n",
       "  <thead>\n",
       "    <tr style=\"text-align: right;\">\n",
       "      <th>title</th>\n",
       "      <th>Ace Ventura: Pet Detective (1994)</th>\n",
       "      <th>Ace Ventura: When Nature Calls (1995)</th>\n",
       "      <th>Addams Family Values (1993)</th>\n",
       "      <th>Aladdin (1992)</th>\n",
       "      <th>Apollo 13 (1995)</th>\n",
       "      <th>Batman (1989)</th>\n",
       "      <th>Birdcage, The (1996)</th>\n",
       "      <th>City Slickers II: The Legend of Curly's Gold (1994)</th>\n",
       "      <th>Clear and Present Danger (1994)</th>\n",
       "      <th>Clerks (1994)</th>\n",
       "      <th>...</th>\n",
       "      <th>Sleepless in Seattle (1993)</th>\n",
       "      <th>Specialist, The (1994)</th>\n",
       "      <th>Star Trek: Generations (1994)</th>\n",
       "      <th>Stargate (1994)</th>\n",
       "      <th>Taxi Driver (1976)</th>\n",
       "      <th>Terminator 2: Judgment Day (1991)</th>\n",
       "      <th>Tombstone (1993)</th>\n",
       "      <th>Twelve Monkeys (a.k.a. 12 Monkeys) (1995)</th>\n",
       "      <th>Usual Suspects, The (1995)</th>\n",
       "      <th>Waterworld (1995)</th>\n",
       "    </tr>\n",
       "    <tr>\n",
       "      <th>userId</th>\n",
       "      <th></th>\n",
       "      <th></th>\n",
       "      <th></th>\n",
       "      <th></th>\n",
       "      <th></th>\n",
       "      <th></th>\n",
       "      <th></th>\n",
       "      <th></th>\n",
       "      <th></th>\n",
       "      <th></th>\n",
       "      <th></th>\n",
       "      <th></th>\n",
       "      <th></th>\n",
       "      <th></th>\n",
       "      <th></th>\n",
       "      <th></th>\n",
       "      <th></th>\n",
       "      <th></th>\n",
       "      <th></th>\n",
       "      <th></th>\n",
       "      <th></th>\n",
       "    </tr>\n",
       "  </thead>\n",
       "  <tbody>\n",
       "    <tr>\n",
       "      <th>29.0</th>\n",
       "      <td>3.0</td>\n",
       "      <td>3.0</td>\n",
       "      <td>3.0</td>\n",
       "      <td>4.0</td>\n",
       "      <td>4.0</td>\n",
       "      <td>4.0</td>\n",
       "      <td>NaN</td>\n",
       "      <td>4.0</td>\n",
       "      <td>3.0</td>\n",
       "      <td>NaN</td>\n",
       "      <td>...</td>\n",
       "      <td>NaN</td>\n",
       "      <td>4.0</td>\n",
       "      <td>3.0</td>\n",
       "      <td>3.0</td>\n",
       "      <td>NaN</td>\n",
       "      <td>4.0</td>\n",
       "      <td>4.0</td>\n",
       "      <td>3.0</td>\n",
       "      <td>4.0</td>\n",
       "      <td>3.0</td>\n",
       "    </tr>\n",
       "    <tr>\n",
       "      <th>91.0</th>\n",
       "      <td>2.5</td>\n",
       "      <td>2.0</td>\n",
       "      <td>2.5</td>\n",
       "      <td>NaN</td>\n",
       "      <td>3.5</td>\n",
       "      <td>4.0</td>\n",
       "      <td>3.5</td>\n",
       "      <td>3.0</td>\n",
       "      <td>3.0</td>\n",
       "      <td>1.5</td>\n",
       "      <td>...</td>\n",
       "      <td>3.5</td>\n",
       "      <td>NaN</td>\n",
       "      <td>3.5</td>\n",
       "      <td>4.0</td>\n",
       "      <td>NaN</td>\n",
       "      <td>2.5</td>\n",
       "      <td>4.5</td>\n",
       "      <td>4.0</td>\n",
       "      <td>3.5</td>\n",
       "      <td>1.5</td>\n",
       "    </tr>\n",
       "    <tr>\n",
       "      <th>116.0</th>\n",
       "      <td>3.5</td>\n",
       "      <td>2.5</td>\n",
       "      <td>2.0</td>\n",
       "      <td>3.0</td>\n",
       "      <td>3.0</td>\n",
       "      <td>4.5</td>\n",
       "      <td>2.5</td>\n",
       "      <td>2.0</td>\n",
       "      <td>1.5</td>\n",
       "      <td>3.5</td>\n",
       "      <td>...</td>\n",
       "      <td>NaN</td>\n",
       "      <td>2.5</td>\n",
       "      <td>2.0</td>\n",
       "      <td>3.5</td>\n",
       "      <td>4.0</td>\n",
       "      <td>4.0</td>\n",
       "      <td>4.0</td>\n",
       "      <td>4.0</td>\n",
       "      <td>4.5</td>\n",
       "      <td>2.0</td>\n",
       "    </tr>\n",
       "    <tr>\n",
       "      <th>156.0</th>\n",
       "      <td>3.0</td>\n",
       "      <td>NaN</td>\n",
       "      <td>3.0</td>\n",
       "      <td>NaN</td>\n",
       "      <td>5.0</td>\n",
       "      <td>4.0</td>\n",
       "      <td>4.0</td>\n",
       "      <td>3.0</td>\n",
       "      <td>5.0</td>\n",
       "      <td>NaN</td>\n",
       "      <td>...</td>\n",
       "      <td>4.0</td>\n",
       "      <td>4.0</td>\n",
       "      <td>3.0</td>\n",
       "      <td>4.0</td>\n",
       "      <td>4.0</td>\n",
       "      <td>5.0</td>\n",
       "      <td>4.0</td>\n",
       "      <td>5.0</td>\n",
       "      <td>5.0</td>\n",
       "      <td>3.0</td>\n",
       "    </tr>\n",
       "    <tr>\n",
       "      <th>294.0</th>\n",
       "      <td>2.5</td>\n",
       "      <td>1.0</td>\n",
       "      <td>3.5</td>\n",
       "      <td>4.0</td>\n",
       "      <td>5.0</td>\n",
       "      <td>3.5</td>\n",
       "      <td>3.0</td>\n",
       "      <td>1.5</td>\n",
       "      <td>2.5</td>\n",
       "      <td>NaN</td>\n",
       "      <td>...</td>\n",
       "      <td>3.5</td>\n",
       "      <td>3.0</td>\n",
       "      <td>4.0</td>\n",
       "      <td>NaN</td>\n",
       "      <td>4.5</td>\n",
       "      <td>NaN</td>\n",
       "      <td>5.0</td>\n",
       "      <td>4.0</td>\n",
       "      <td>NaN</td>\n",
       "      <td>1.5</td>\n",
       "    </tr>\n",
       "  </tbody>\n",
       "</table>\n",
       "<p>5 rows × 50 columns</p>\n",
       "</div>"
      ],
      "text/plain": [
       "title   Ace Ventura: Pet Detective (1994)  Ace Ventura: When Nature Calls (1995)  Addams Family Values (1993)  Aladdin (1992)  Apollo 13 (1995)  Batman (1989)  Birdcage, The (1996)  City Slickers II: The Legend of Curly's Gold (1994)  Clear and Present Danger (1994)  Clerks (1994)  ...  Sleepless in Seattle (1993)  Specialist, The (1994)  Star Trek: Generations (1994)  Stargate (1994)  Taxi Driver (1976)  Terminator 2: Judgment Day (1991)  Tombstone (1993)  Twelve Monkeys (a.k.a. 12 Monkeys) (1995)  Usual Suspects, The (1995)  Waterworld (1995)\n",
       "userId                                                                                                                                                                                                                                                                                     ...                                                                                                                                                                                                                                                                        \n",
       "29.0                                  3.0                                    3.0                          3.0             4.0               4.0            4.0                   NaN                                                4.0                                3.0            NaN  ...                          NaN                     4.0                            3.0              3.0                 NaN                                4.0               4.0                                        3.0                         4.0                3.0\n",
       "91.0                                  2.5                                    2.0                          2.5             NaN               3.5            4.0                   3.5                                                3.0                                3.0            1.5  ...                          3.5                     NaN                            3.5              4.0                 NaN                                2.5               4.5                                        4.0                         3.5                1.5\n",
       "116.0                                 3.5                                    2.5                          2.0             3.0               3.0            4.5                   2.5                                                2.0                                1.5            3.5  ...                          NaN                     2.5                            2.0              3.5                 4.0                                4.0               4.0                                        4.0                         4.5                2.0\n",
       "156.0                                 3.0                                    NaN                          3.0             NaN               5.0            4.0                   4.0                                                3.0                                5.0            NaN  ...                          4.0                     4.0                            3.0              4.0                 4.0                                5.0               4.0                                        5.0                         5.0                3.0\n",
       "294.0                                 2.5                                    1.0                          3.5             4.0               5.0            3.5                   3.0                                                1.5                                2.5            NaN  ...                          3.5                     3.0                            4.0              NaN                 4.5                                NaN               5.0                                        4.0                         NaN                1.5\n",
       "\n",
       "[5 rows x 50 columns]"
      ]
     },
     "execution_count": 37,
     "metadata": {},
     "output_type": "execute_result"
    }
   ],
   "source": [
    "final_df = pd.concat([movies_watched_df[movies_watched_df.index.isin(users_same_movies)],\n",
    "                      random_user_df[movies_watched]])\n",
    "\n",
    "print(final_df.shape)\n",
    "final_df.head()"
   ]
  },
  {
   "cell_type": "code",
   "execution_count": null,
   "metadata": {},
   "outputs": [
    {
     "data": {
      "text/html": [
       "<div>\n",
       "<style scoped>\n",
       "    .dataframe tbody tr th:only-of-type {\n",
       "        vertical-align: middle;\n",
       "    }\n",
       "\n",
       "    .dataframe tbody tr th {\n",
       "        vertical-align: top;\n",
       "    }\n",
       "\n",
       "    .dataframe thead th {\n",
       "        text-align: right;\n",
       "    }\n",
       "</style>\n",
       "<table border=\"1\" class=\"dataframe\">\n",
       "  <thead>\n",
       "    <tr style=\"text-align: right;\">\n",
       "      <th></th>\n",
       "      <th>user_id_1</th>\n",
       "      <th>user_id_2</th>\n",
       "      <th>corr</th>\n",
       "    </tr>\n",
       "  </thead>\n",
       "  <tbody>\n",
       "    <tr>\n",
       "      <th>0</th>\n",
       "      <td>40505.0</td>\n",
       "      <td>67756.0</td>\n",
       "      <td>-0.751181</td>\n",
       "    </tr>\n",
       "    <tr>\n",
       "      <th>1</th>\n",
       "      <td>18893.0</td>\n",
       "      <td>59226.0</td>\n",
       "      <td>-0.703250</td>\n",
       "    </tr>\n",
       "    <tr>\n",
       "      <th>2</th>\n",
       "      <td>67756.0</td>\n",
       "      <td>27406.0</td>\n",
       "      <td>-0.695150</td>\n",
       "    </tr>\n",
       "    <tr>\n",
       "      <th>3</th>\n",
       "      <td>26386.0</td>\n",
       "      <td>27239.0</td>\n",
       "      <td>-0.684906</td>\n",
       "    </tr>\n",
       "    <tr>\n",
       "      <th>4</th>\n",
       "      <td>61858.0</td>\n",
       "      <td>124395.0</td>\n",
       "      <td>-0.680414</td>\n",
       "    </tr>\n",
       "  </tbody>\n",
       "</table>\n",
       "</div>"
      ],
      "text/plain": [
       "   user_id_1  user_id_2      corr\n",
       "0    40505.0    67756.0 -0.751181\n",
       "1    18893.0    59226.0 -0.703250\n",
       "2    67756.0    27406.0 -0.695150\n",
       "3    26386.0    27239.0 -0.684906\n",
       "4    61858.0   124395.0 -0.680414"
      ]
     },
     "execution_count": 38,
     "metadata": {},
     "output_type": "execute_result"
    }
   ],
   "source": [
    "# Reshaping the matrix\n",
    "\n",
    "final_df.T.corr() # Placing all users in the columns\n",
    "# And tidying up\n",
    "corr_df = final_df.T.corr().unstack().sort_values().drop_duplicates()\n",
    "corr_df = pd.DataFrame(corr_df, columns=[\"corr\"])\n",
    "corr_df.index.names = ['user_id_1', 'user_id_2']\n",
    "corr_df = corr_df.reset_index()\n",
    "\n",
    "corr_df.head()"
   ]
  },
  {
   "cell_type": "code",
   "execution_count": null,
   "metadata": {},
   "outputs": [
    {
     "data": {
      "text/html": [
       "<div>\n",
       "<style scoped>\n",
       "    .dataframe tbody tr th:only-of-type {\n",
       "        vertical-align: middle;\n",
       "    }\n",
       "\n",
       "    .dataframe tbody tr th {\n",
       "        vertical-align: top;\n",
       "    }\n",
       "\n",
       "    .dataframe thead th {\n",
       "        text-align: right;\n",
       "    }\n",
       "</style>\n",
       "<table border=\"1\" class=\"dataframe\">\n",
       "  <thead>\n",
       "    <tr style=\"text-align: right;\">\n",
       "      <th></th>\n",
       "      <th>userId</th>\n",
       "      <th>corr</th>\n",
       "    </tr>\n",
       "  </thead>\n",
       "  <tbody>\n",
       "    <tr>\n",
       "      <th>45</th>\n",
       "      <td>8362.0</td>\n",
       "      <td>1.000000</td>\n",
       "    </tr>\n",
       "    <tr>\n",
       "      <th>44</th>\n",
       "      <td>2937.0</td>\n",
       "      <td>0.749294</td>\n",
       "    </tr>\n",
       "    <tr>\n",
       "      <th>43</th>\n",
       "      <td>78109.0</td>\n",
       "      <td>0.736563</td>\n",
       "    </tr>\n",
       "    <tr>\n",
       "      <th>42</th>\n",
       "      <td>8608.0</td>\n",
       "      <td>0.731655</td>\n",
       "    </tr>\n",
       "    <tr>\n",
       "      <th>41</th>\n",
       "      <td>78755.0</td>\n",
       "      <td>0.729519</td>\n",
       "    </tr>\n",
       "    <tr>\n",
       "      <th>40</th>\n",
       "      <td>101171.0</td>\n",
       "      <td>0.714929</td>\n",
       "    </tr>\n",
       "    <tr>\n",
       "      <th>39</th>\n",
       "      <td>101171.0</td>\n",
       "      <td>0.714929</td>\n",
       "    </tr>\n",
       "    <tr>\n",
       "      <th>38</th>\n",
       "      <td>18611.0</td>\n",
       "      <td>0.708948</td>\n",
       "    </tr>\n",
       "    <tr>\n",
       "      <th>37</th>\n",
       "      <td>82981.0</td>\n",
       "      <td>0.699751</td>\n",
       "    </tr>\n",
       "    <tr>\n",
       "      <th>36</th>\n",
       "      <td>53998.0</td>\n",
       "      <td>0.699228</td>\n",
       "    </tr>\n",
       "    <tr>\n",
       "      <th>35</th>\n",
       "      <td>96684.0</td>\n",
       "      <td>0.693123</td>\n",
       "    </tr>\n",
       "    <tr>\n",
       "      <th>34</th>\n",
       "      <td>14977.0</td>\n",
       "      <td>0.687505</td>\n",
       "    </tr>\n",
       "    <tr>\n",
       "      <th>33</th>\n",
       "      <td>80920.0</td>\n",
       "      <td>0.686284</td>\n",
       "    </tr>\n",
       "    <tr>\n",
       "      <th>32</th>\n",
       "      <td>6099.0</td>\n",
       "      <td>0.680850</td>\n",
       "    </tr>\n",
       "    <tr>\n",
       "      <th>31</th>\n",
       "      <td>80771.0</td>\n",
       "      <td>0.680019</td>\n",
       "    </tr>\n",
       "    <tr>\n",
       "      <th>30</th>\n",
       "      <td>45015.0</td>\n",
       "      <td>0.679427</td>\n",
       "    </tr>\n",
       "    <tr>\n",
       "      <th>29</th>\n",
       "      <td>35309.0</td>\n",
       "      <td>0.678509</td>\n",
       "    </tr>\n",
       "    <tr>\n",
       "      <th>28</th>\n",
       "      <td>40308.0</td>\n",
       "      <td>0.677336</td>\n",
       "    </tr>\n",
       "    <tr>\n",
       "      <th>27</th>\n",
       "      <td>38393.0</td>\n",
       "      <td>0.675327</td>\n",
       "    </tr>\n",
       "    <tr>\n",
       "      <th>26</th>\n",
       "      <td>89892.0</td>\n",
       "      <td>0.674517</td>\n",
       "    </tr>\n",
       "    <tr>\n",
       "      <th>25</th>\n",
       "      <td>83608.0</td>\n",
       "      <td>0.673648</td>\n",
       "    </tr>\n",
       "    <tr>\n",
       "      <th>24</th>\n",
       "      <td>83608.0</td>\n",
       "      <td>0.673648</td>\n",
       "    </tr>\n",
       "    <tr>\n",
       "      <th>23</th>\n",
       "      <td>10581.0</td>\n",
       "      <td>0.672367</td>\n",
       "    </tr>\n",
       "    <tr>\n",
       "      <th>22</th>\n",
       "      <td>4598.0</td>\n",
       "      <td>0.671726</td>\n",
       "    </tr>\n",
       "    <tr>\n",
       "      <th>21</th>\n",
       "      <td>36479.0</td>\n",
       "      <td>0.670636</td>\n",
       "    </tr>\n",
       "    <tr>\n",
       "      <th>20</th>\n",
       "      <td>23790.0</td>\n",
       "      <td>0.670056</td>\n",
       "    </tr>\n",
       "    <tr>\n",
       "      <th>19</th>\n",
       "      <td>4677.0</td>\n",
       "      <td>0.669852</td>\n",
       "    </tr>\n",
       "    <tr>\n",
       "      <th>18</th>\n",
       "      <td>98470.0</td>\n",
       "      <td>0.667898</td>\n",
       "    </tr>\n",
       "    <tr>\n",
       "      <th>17</th>\n",
       "      <td>135436.0</td>\n",
       "      <td>0.666923</td>\n",
       "    </tr>\n",
       "    <tr>\n",
       "      <th>16</th>\n",
       "      <td>20011.0</td>\n",
       "      <td>0.665402</td>\n",
       "    </tr>\n",
       "    <tr>\n",
       "      <th>15</th>\n",
       "      <td>90725.0</td>\n",
       "      <td>0.665126</td>\n",
       "    </tr>\n",
       "    <tr>\n",
       "      <th>14</th>\n",
       "      <td>116587.0</td>\n",
       "      <td>0.663419</td>\n",
       "    </tr>\n",
       "    <tr>\n",
       "      <th>13</th>\n",
       "      <td>66741.0</td>\n",
       "      <td>0.662733</td>\n",
       "    </tr>\n",
       "    <tr>\n",
       "      <th>12</th>\n",
       "      <td>136897.0</td>\n",
       "      <td>0.658951</td>\n",
       "    </tr>\n",
       "    <tr>\n",
       "      <th>11</th>\n",
       "      <td>136897.0</td>\n",
       "      <td>0.658951</td>\n",
       "    </tr>\n",
       "    <tr>\n",
       "      <th>10</th>\n",
       "      <td>35745.0</td>\n",
       "      <td>0.655548</td>\n",
       "    </tr>\n",
       "    <tr>\n",
       "      <th>9</th>\n",
       "      <td>35745.0</td>\n",
       "      <td>0.655548</td>\n",
       "    </tr>\n",
       "    <tr>\n",
       "      <th>8</th>\n",
       "      <td>84108.0</td>\n",
       "      <td>0.655380</td>\n",
       "    </tr>\n",
       "    <tr>\n",
       "      <th>7</th>\n",
       "      <td>100233.0</td>\n",
       "      <td>0.655237</td>\n",
       "    </tr>\n",
       "    <tr>\n",
       "      <th>6</th>\n",
       "      <td>97602.0</td>\n",
       "      <td>0.654621</td>\n",
       "    </tr>\n",
       "    <tr>\n",
       "      <th>5</th>\n",
       "      <td>63810.0</td>\n",
       "      <td>0.654331</td>\n",
       "    </tr>\n",
       "    <tr>\n",
       "      <th>4</th>\n",
       "      <td>107264.0</td>\n",
       "      <td>0.654301</td>\n",
       "    </tr>\n",
       "    <tr>\n",
       "      <th>3</th>\n",
       "      <td>107264.0</td>\n",
       "      <td>0.654301</td>\n",
       "    </tr>\n",
       "    <tr>\n",
       "      <th>2</th>\n",
       "      <td>23957.0</td>\n",
       "      <td>0.653643</td>\n",
       "    </tr>\n",
       "    <tr>\n",
       "      <th>1</th>\n",
       "      <td>114589.0</td>\n",
       "      <td>0.651585</td>\n",
       "    </tr>\n",
       "    <tr>\n",
       "      <th>0</th>\n",
       "      <td>84752.0</td>\n",
       "      <td>0.650220</td>\n",
       "    </tr>\n",
       "  </tbody>\n",
       "</table>\n",
       "</div>"
      ],
      "text/plain": [
       "      userId      corr\n",
       "45    8362.0  1.000000\n",
       "44    2937.0  0.749294\n",
       "43   78109.0  0.736563\n",
       "42    8608.0  0.731655\n",
       "41   78755.0  0.729519\n",
       "40  101171.0  0.714929\n",
       "39  101171.0  0.714929\n",
       "38   18611.0  0.708948\n",
       "37   82981.0  0.699751\n",
       "36   53998.0  0.699228\n",
       "35   96684.0  0.693123\n",
       "34   14977.0  0.687505\n",
       "33   80920.0  0.686284\n",
       "32    6099.0  0.680850\n",
       "31   80771.0  0.680019\n",
       "30   45015.0  0.679427\n",
       "29   35309.0  0.678509\n",
       "28   40308.0  0.677336\n",
       "27   38393.0  0.675327\n",
       "26   89892.0  0.674517\n",
       "25   83608.0  0.673648\n",
       "24   83608.0  0.673648\n",
       "23   10581.0  0.672367\n",
       "22    4598.0  0.671726\n",
       "21   36479.0  0.670636\n",
       "20   23790.0  0.670056\n",
       "19    4677.0  0.669852\n",
       "18   98470.0  0.667898\n",
       "17  135436.0  0.666923\n",
       "16   20011.0  0.665402\n",
       "15   90725.0  0.665126\n",
       "14  116587.0  0.663419\n",
       "13   66741.0  0.662733\n",
       "12  136897.0  0.658951\n",
       "11  136897.0  0.658951\n",
       "10   35745.0  0.655548\n",
       "9    35745.0  0.655548\n",
       "8    84108.0  0.655380\n",
       "7   100233.0  0.655237\n",
       "6    97602.0  0.654621\n",
       "5    63810.0  0.654331\n",
       "4   107264.0  0.654301\n",
       "3   107264.0  0.654301\n",
       "2    23957.0  0.653643\n",
       "1   114589.0  0.651585\n",
       "0    84752.0  0.650220"
      ]
     },
     "execution_count": 39,
     "metadata": {},
     "output_type": "execute_result"
    }
   ],
   "source": [
    "# Displaying users with =>65% correlation with our random user\n",
    "top_users = corr_df[(corr_df[\"user_id_1\"] == random_user) & (corr_df[\"corr\"] >= 0.65)][\n",
    "    [\"user_id_2\", \"corr\"]].reset_index(drop=True)\n",
    "\n",
    "top_users = top_users.sort_values(by='corr', ascending=False)\n",
    "top_users.rename(columns={\"user_id_2\": \"userId\"}, inplace=True)\n",
    "top_users"
   ]
  },
  {
   "cell_type": "code",
   "execution_count": null,
   "metadata": {},
   "outputs": [],
   "source": [
    "# Now, we take this new table and merge it with the user ratings\n",
    "rating = pd.read_csv('movielens/rating.csv')\n",
    "top_users_ratings = top_users.merge(rating[[\"userId\", \"movieId\", \"rating\"]], how='inner')"
   ]
  },
  {
   "cell_type": "code",
   "execution_count": null,
   "metadata": {},
   "outputs": [
    {
     "data": {
      "text/html": [
       "<div>\n",
       "<style scoped>\n",
       "    .dataframe tbody tr th:only-of-type {\n",
       "        vertical-align: middle;\n",
       "    }\n",
       "\n",
       "    .dataframe tbody tr th {\n",
       "        vertical-align: top;\n",
       "    }\n",
       "\n",
       "    .dataframe thead th {\n",
       "        text-align: right;\n",
       "    }\n",
       "</style>\n",
       "<table border=\"1\" class=\"dataframe\">\n",
       "  <thead>\n",
       "    <tr style=\"text-align: right;\">\n",
       "      <th></th>\n",
       "      <th>userId</th>\n",
       "      <th>corr</th>\n",
       "      <th>movieId</th>\n",
       "      <th>rating</th>\n",
       "    </tr>\n",
       "  </thead>\n",
       "  <tbody>\n",
       "    <tr>\n",
       "      <th>51</th>\n",
       "      <td>2937.0</td>\n",
       "      <td>0.749294</td>\n",
       "      <td>1</td>\n",
       "      <td>4.0</td>\n",
       "    </tr>\n",
       "    <tr>\n",
       "      <th>52</th>\n",
       "      <td>2937.0</td>\n",
       "      <td>0.749294</td>\n",
       "      <td>6</td>\n",
       "      <td>4.0</td>\n",
       "    </tr>\n",
       "    <tr>\n",
       "      <th>53</th>\n",
       "      <td>2937.0</td>\n",
       "      <td>0.749294</td>\n",
       "      <td>7</td>\n",
       "      <td>3.0</td>\n",
       "    </tr>\n",
       "    <tr>\n",
       "      <th>54</th>\n",
       "      <td>2937.0</td>\n",
       "      <td>0.749294</td>\n",
       "      <td>10</td>\n",
       "      <td>3.0</td>\n",
       "    </tr>\n",
       "    <tr>\n",
       "      <th>55</th>\n",
       "      <td>2937.0</td>\n",
       "      <td>0.749294</td>\n",
       "      <td>11</td>\n",
       "      <td>4.0</td>\n",
       "    </tr>\n",
       "  </tbody>\n",
       "</table>\n",
       "</div>"
      ],
      "text/plain": [
       "    userId      corr  movieId  rating\n",
       "51  2937.0  0.749294        1     4.0\n",
       "52  2937.0  0.749294        6     4.0\n",
       "53  2937.0  0.749294        7     3.0\n",
       "54  2937.0  0.749294       10     3.0\n",
       "55  2937.0  0.749294       11     4.0"
      ]
     },
     "execution_count": 41,
     "metadata": {},
     "output_type": "execute_result"
    }
   ],
   "source": [
    "# And we remove our random user of interest from the correlation table\n",
    "top_users_ratings = top_users_ratings[top_users_ratings[\"userId\"] != random_user]\n",
    "\n",
    "top_users_ratings.head()"
   ]
  },
  {
   "attachments": {},
   "cell_type": "markdown",
   "metadata": {},
   "source": [
    "Here we encounter the problem that there are two levels in the data, namely correlating and rating. Some users will have high correlation with our random user of interest, but high rating, etc. So, which one of these levels is it most important to consider? \n",
    "\n",
    "In order to figure that out, we make a weighting based on the two levels."
   ]
  },
  {
   "attachments": {},
   "cell_type": "markdown",
   "metadata": {},
   "source": [
    "### 2.2.5. Calculating the weighted average recommendation score\n",
    "\n",
    "Now, we create a single score by considering both correlation (i.e. the impact of the users that behave similarly to our user of interest) and rating simultaneously."
   ]
  },
  {
   "cell_type": "code",
   "execution_count": null,
   "metadata": {},
   "outputs": [
    {
     "data": {
      "text/html": [
       "<div>\n",
       "<style scoped>\n",
       "    .dataframe tbody tr th:only-of-type {\n",
       "        vertical-align: middle;\n",
       "    }\n",
       "\n",
       "    .dataframe tbody tr th {\n",
       "        vertical-align: top;\n",
       "    }\n",
       "\n",
       "    .dataframe thead th {\n",
       "        text-align: right;\n",
       "    }\n",
       "</style>\n",
       "<table border=\"1\" class=\"dataframe\">\n",
       "  <thead>\n",
       "    <tr style=\"text-align: right;\">\n",
       "      <th></th>\n",
       "      <th>userId</th>\n",
       "      <th>corr</th>\n",
       "      <th>movieId</th>\n",
       "      <th>rating</th>\n",
       "      <th>weighted_rating</th>\n",
       "    </tr>\n",
       "  </thead>\n",
       "  <tbody>\n",
       "    <tr>\n",
       "      <th>51</th>\n",
       "      <td>2937.0</td>\n",
       "      <td>0.749294</td>\n",
       "      <td>1</td>\n",
       "      <td>4.0</td>\n",
       "      <td>2.997175</td>\n",
       "    </tr>\n",
       "    <tr>\n",
       "      <th>52</th>\n",
       "      <td>2937.0</td>\n",
       "      <td>0.749294</td>\n",
       "      <td>6</td>\n",
       "      <td>4.0</td>\n",
       "      <td>2.997175</td>\n",
       "    </tr>\n",
       "    <tr>\n",
       "      <th>53</th>\n",
       "      <td>2937.0</td>\n",
       "      <td>0.749294</td>\n",
       "      <td>7</td>\n",
       "      <td>3.0</td>\n",
       "      <td>2.247882</td>\n",
       "    </tr>\n",
       "    <tr>\n",
       "      <th>54</th>\n",
       "      <td>2937.0</td>\n",
       "      <td>0.749294</td>\n",
       "      <td>10</td>\n",
       "      <td>3.0</td>\n",
       "      <td>2.247882</td>\n",
       "    </tr>\n",
       "    <tr>\n",
       "      <th>55</th>\n",
       "      <td>2937.0</td>\n",
       "      <td>0.749294</td>\n",
       "      <td>11</td>\n",
       "      <td>4.0</td>\n",
       "      <td>2.997175</td>\n",
       "    </tr>\n",
       "  </tbody>\n",
       "</table>\n",
       "</div>"
      ],
      "text/plain": [
       "    userId      corr  movieId  rating  weighted_rating\n",
       "51  2937.0  0.749294        1     4.0         2.997175\n",
       "52  2937.0  0.749294        6     4.0         2.997175\n",
       "53  2937.0  0.749294        7     3.0         2.247882\n",
       "54  2937.0  0.749294       10     3.0         2.247882\n",
       "55  2937.0  0.749294       11     4.0         2.997175"
      ]
     },
     "execution_count": 42,
     "metadata": {},
     "output_type": "execute_result"
    }
   ],
   "source": [
    "# Calculation of weighted_rating\n",
    "top_users_ratings['weighted_rating'] = top_users_ratings['corr'] * top_users_ratings['rating']\n",
    "top_users_ratings.head()"
   ]
  },
  {
   "cell_type": "code",
   "execution_count": null,
   "metadata": {},
   "outputs": [
    {
     "name": "stdout",
     "output_type": "stream",
     "text": [
      "movieId    8071\n",
      "dtype: int64\n"
     ]
    },
    {
     "data": {
      "text/html": [
       "<div>\n",
       "<style scoped>\n",
       "    .dataframe tbody tr th:only-of-type {\n",
       "        vertical-align: middle;\n",
       "    }\n",
       "\n",
       "    .dataframe tbody tr th {\n",
       "        vertical-align: top;\n",
       "    }\n",
       "\n",
       "    .dataframe thead th {\n",
       "        text-align: right;\n",
       "    }\n",
       "</style>\n",
       "<table border=\"1\" class=\"dataframe\">\n",
       "  <thead>\n",
       "    <tr style=\"text-align: right;\">\n",
       "      <th></th>\n",
       "      <th>movieId</th>\n",
       "      <th>weighted_rating</th>\n",
       "    </tr>\n",
       "  </thead>\n",
       "  <tbody>\n",
       "    <tr>\n",
       "      <th>0</th>\n",
       "      <td>1</td>\n",
       "      <td>2.778496</td>\n",
       "    </tr>\n",
       "    <tr>\n",
       "      <th>1</th>\n",
       "      <td>2</td>\n",
       "      <td>2.109489</td>\n",
       "    </tr>\n",
       "    <tr>\n",
       "      <th>2</th>\n",
       "      <td>3</td>\n",
       "      <td>1.746772</td>\n",
       "    </tr>\n",
       "    <tr>\n",
       "      <th>3</th>\n",
       "      <td>4</td>\n",
       "      <td>1.886453</td>\n",
       "    </tr>\n",
       "    <tr>\n",
       "      <th>4</th>\n",
       "      <td>5</td>\n",
       "      <td>1.769812</td>\n",
       "    </tr>\n",
       "  </tbody>\n",
       "</table>\n",
       "</div>"
      ],
      "text/plain": [
       "   movieId  weighted_rating\n",
       "0        1         2.778496\n",
       "1        2         2.109489\n",
       "2        3         1.746772\n",
       "3        4         1.886453\n",
       "4        5         1.769812"
      ]
     },
     "execution_count": 43,
     "metadata": {},
     "output_type": "execute_result"
    }
   ],
   "source": [
    "# Here we have the issue that there are many ratings for each movie. Therefore we need to group\n",
    "recommendation_df = top_users_ratings.groupby('movieId').agg({\"weighted_rating\": \"mean\"})\n",
    "\n",
    "recommendation_df = recommendation_df.reset_index()\n",
    "\n",
    "print(recommendation_df[[\"movieId\"]].nunique())\n",
    "recommendation_df.head()"
   ]
  },
  {
   "attachments": {},
   "cell_type": "markdown",
   "metadata": {},
   "source": [
    "This results in a total of 8071 recommended movies, so now we will recommend just the ones that have a weighted score above 3.5"
   ]
  },
  {
   "cell_type": "code",
   "execution_count": null,
   "metadata": {},
   "outputs": [
    {
     "data": {
      "text/html": [
       "<div>\n",
       "<style scoped>\n",
       "    .dataframe tbody tr th:only-of-type {\n",
       "        vertical-align: middle;\n",
       "    }\n",
       "\n",
       "    .dataframe tbody tr th {\n",
       "        vertical-align: top;\n",
       "    }\n",
       "\n",
       "    .dataframe thead th {\n",
       "        text-align: right;\n",
       "    }\n",
       "</style>\n",
       "<table border=\"1\" class=\"dataframe\">\n",
       "  <thead>\n",
       "    <tr style=\"text-align: right;\">\n",
       "      <th></th>\n",
       "      <th>movieId</th>\n",
       "      <th>weighted_rating</th>\n",
       "      <th>title</th>\n",
       "    </tr>\n",
       "  </thead>\n",
       "  <tbody>\n",
       "    <tr>\n",
       "      <th>0</th>\n",
       "      <td>116</td>\n",
       "      <td>3.746469</td>\n",
       "      <td>Anne Frank Remembered (1995)</td>\n",
       "    </tr>\n",
       "    <tr>\n",
       "      <th>1</th>\n",
       "      <td>27002</td>\n",
       "      <td>3.574647</td>\n",
       "      <td>From the Earth to the Moon (1998)</td>\n",
       "    </tr>\n",
       "    <tr>\n",
       "      <th>2</th>\n",
       "      <td>3038</td>\n",
       "      <td>3.544738</td>\n",
       "      <td>Face in the Crowd, A (1957)</td>\n",
       "    </tr>\n",
       "    <tr>\n",
       "      <th>3</th>\n",
       "      <td>7234</td>\n",
       "      <td>3.544738</td>\n",
       "      <td>Strada, La (1954)</td>\n",
       "    </tr>\n",
       "    <tr>\n",
       "      <th>4</th>\n",
       "      <td>78986</td>\n",
       "      <td>3.544738</td>\n",
       "      <td>Salvador (Puig Antich) (2006)</td>\n",
       "    </tr>\n",
       "    <tr>\n",
       "      <th>5</th>\n",
       "      <td>214</td>\n",
       "      <td>3.509063</td>\n",
       "      <td>Before the Rain (Pred dozhdot) (1994)</td>\n",
       "    </tr>\n",
       "  </tbody>\n",
       "</table>\n",
       "</div>"
      ],
      "text/plain": [
       "   movieId  weighted_rating                                  title\n",
       "0      116         3.746469           Anne Frank Remembered (1995)\n",
       "1    27002         3.574647      From the Earth to the Moon (1998)\n",
       "2     3038         3.544738            Face in the Crowd, A (1957)\n",
       "3     7234         3.544738                      Strada, La (1954)\n",
       "4    78986         3.544738          Salvador (Puig Antich) (2006)\n",
       "5      214         3.509063  Before the Rain (Pred dozhdot) (1994)"
      ]
     },
     "execution_count": 44,
     "metadata": {},
     "output_type": "execute_result"
    }
   ],
   "source": [
    "movies_to_be_recommend = recommendation_df[recommendation_df[\"weighted_rating\"] > 3.5].sort_values(\"weighted_rating\", ascending=False)\n",
    "\n",
    "# list of movies to recommend\n",
    "movie = pd.read_csv('movielens/movie.csv')\n",
    "movies_to_be_recommend.merge(movie[[\"movieId\", \"title\"]])"
   ]
  },
  {
   "attachments": {},
   "cell_type": "markdown",
   "metadata": {},
   "source": [
    "### 2.2.6. Functionalizing the User-Based Recommender"
   ]
  },
  {
   "cell_type": "code",
   "execution_count": 1,
   "metadata": {},
   "outputs": [],
   "source": [
    "def user_based_recommender(random_user):\n",
    "    \n",
    "    # Importing libraries\n",
    "    import pickle\n",
    "    import pandas as pd\n",
    "\n",
    "    # Preparing the data\n",
    "    #user_movie_df = create_user_movie_df() # Using the function we made previously.\n",
    "    \n",
    "    rating = pd.read_csv('movielens/rating.csv')\n",
    "    movie = pd.read_csv('movielens/movie.csv')\n",
    "\n",
    "    output = pd.DataFrame()\n",
    "        \n",
    "    # Determining the movies that a random user has watched\n",
    "    random_user_df = user_movie_df[user_movie_df.index == random_user]\n",
    "    movies_watched = random_user_df.columns[random_user_df.notna().any()].tolist()\n",
    "    movies_watched_df = user_movie_df[movies_watched]\n",
    "    \n",
    "    # Accessing the data and IDs of other users watching the same movies\n",
    "    user_movie_count = movies_watched_df.T.notnull().sum().reset_index()\n",
    "    user_movie_count.columns = [\"userId\", \"movie_count\"]\n",
    "    user_movie_count[user_movie_count[\"movie_count\"] > 20].sort_values(\"movie_count\", ascending=False) \n",
    "    users_same_movies = user_movie_count[user_movie_count[\"movie_count\"] > 40][\"userId\"]\n",
    "\n",
    "    # Identifying other users with the same behaviour\n",
    "    ## Creating and reshaping the user matrix\n",
    "    final_df = pd.concat([movies_watched_df[movies_watched_df.index.isin(users_same_movies)],\n",
    "                      random_user_df[movies_watched]])\n",
    "    corr_df = final_df.T.corr().unstack().sort_values().drop_duplicates()\n",
    "    corr_df = pd.DataFrame(corr_df, columns=[\"corr\"])\n",
    "    corr_df.index.names = ['user_id_1', 'user_id_2']\n",
    "    corr_df = corr_df.reset_index()\n",
    "\n",
    "    ## Finding users with =>65% correlation with the random user\n",
    "    top_users = corr_df[(corr_df[\"user_id_1\"] == random_user) & (corr_df[\"corr\"] >= 0.65)][\n",
    "        [\"user_id_2\", \"corr\"]].reset_index(drop=True)\n",
    "    top_users = top_users.sort_values(by='corr', ascending=False)\n",
    "    top_users.rename(columns={\"user_id_2\": \"userId\"}, inplace=True) \n",
    "\n",
    "    # Merging with the rating data\n",
    "    top_users_ratings = top_users.merge(rating[[\"userId\", \"movieId\", \"rating\"]], how='inner')\n",
    "    top_users_ratings = top_users_ratings[top_users_ratings[\"userId\"] != random_user]\n",
    "\n",
    "    # Calculating the weighted average recommendation score\n",
    "    top_users_ratings['weighted_rating'] = top_users_ratings['corr'] * top_users_ratings['rating']\n",
    "    recommendation_df = top_users_ratings.groupby('movieId').agg({\"weighted_rating\": \"mean\"}).reset_index()\n",
    "        \n",
    "    # For the purpose of plotting like in the last two systems, we want to get all of the recommendations including the bad ones. Otherwise we might filter above 3.5\n",
    "    #movies_to_be_recommend = recommendation_df[recommendation_df[\"weighted_rating\"] > 3.5].sort_values(\"weighted_rating\", ascending=False)\n",
    "    movies_to_be_recommend = recommendation_df[recommendation_df[\"weighted_rating\"] > 0].sort_values(\"weighted_rating\", ascending=False)\n",
    "\n",
    "    movies_to_be_recommend = pd.DataFrame(movies_to_be_recommend.merge(movie[[\"movieId\", \"title\"]]))\n",
    "\n",
    "    movies_to_be_recommend['rec_number'] = range(1, len(movies_to_be_recommend) + 1)\n",
    "    movies_to_be_recommend[\"user\"] = random_user\n",
    "\n",
    "    output = pd.concat([output, movies_to_be_recommend])\n",
    "    \n",
    "    return output\n"
   ]
  },
  {
   "attachments": {},
   "cell_type": "markdown",
   "metadata": {},
   "source": [
    "### 2.2.7. Evaluating Recommendations\n",
    "NB: This part is not working!!"
   ]
  },
  {
   "cell_type": "code",
   "execution_count": 5,
   "metadata": {},
   "outputs": [],
   "source": [
    "# Preparing the data\n",
    "user_movie_df = create_user_movie_df() # Using the function we made previously."
   ]
  },
  {
   "cell_type": "code",
   "execution_count": 6,
   "metadata": {},
   "outputs": [],
   "source": [
    "#random_user_list = [8362, 15007]\n",
    "random_user_list = [8362]\n",
    "\n",
    "ub_plot_df = pd.DataFrame()\n",
    "\n",
    "for user in random_user_list:\n",
    "    ub = user_based_recommender(user)\n",
    "    ub_plot_df = pd.concat([ub_plot_df, ub])"
   ]
  },
  {
   "cell_type": "code",
   "execution_count": 8,
   "metadata": {},
   "outputs": [],
   "source": [
    "# Selecting a subset of 10 random movies\n",
    "rating = pd.read_csv('movielens/rating.csv')\n",
    "\n",
    "ids = np.random.choice(rating[\"movieId\"], size=10, replace=False)\n",
    "rating_sample2 = pd.DataFrame(rating.loc[rating[\"movieId\"].isin(ids)])"
   ]
  },
  {
   "cell_type": "code",
   "execution_count": 9,
   "metadata": {},
   "outputs": [
    {
     "data": {
      "text/html": [
       "<div>\n",
       "<style scoped>\n",
       "    .dataframe tbody tr th:only-of-type {\n",
       "        vertical-align: middle;\n",
       "    }\n",
       "\n",
       "    .dataframe tbody tr th {\n",
       "        vertical-align: top;\n",
       "    }\n",
       "\n",
       "    .dataframe thead th {\n",
       "        text-align: right;\n",
       "    }\n",
       "</style>\n",
       "<table border=\"1\" class=\"dataframe\">\n",
       "  <thead>\n",
       "    <tr style=\"text-align: right;\">\n",
       "      <th></th>\n",
       "      <th>movieId</th>\n",
       "      <th>weighted_rating</th>\n",
       "      <th>title</th>\n",
       "      <th>rec_number</th>\n",
       "      <th>user</th>\n",
       "      <th>userId</th>\n",
       "      <th>rating</th>\n",
       "      <th>timestamp</th>\n",
       "    </tr>\n",
       "  </thead>\n",
       "  <tbody>\n",
       "    <tr>\n",
       "      <th>0</th>\n",
       "      <td>4973</td>\n",
       "      <td>2.989296</td>\n",
       "      <td>Amelie (Fabuleux destin d'Amélie Poulain, Le) ...</td>\n",
       "      <td>372</td>\n",
       "      <td>8362</td>\n",
       "      <td>11</td>\n",
       "      <td>3.5</td>\n",
       "      <td>2009-01-02 18:16:37</td>\n",
       "    </tr>\n",
       "    <tr>\n",
       "      <th>1</th>\n",
       "      <td>4973</td>\n",
       "      <td>2.989296</td>\n",
       "      <td>Amelie (Fabuleux destin d'Amélie Poulain, Le) ...</td>\n",
       "      <td>372</td>\n",
       "      <td>8362</td>\n",
       "      <td>18</td>\n",
       "      <td>5.0</td>\n",
       "      <td>2007-11-20 15:51:13</td>\n",
       "    </tr>\n",
       "    <tr>\n",
       "      <th>2</th>\n",
       "      <td>4973</td>\n",
       "      <td>2.989296</td>\n",
       "      <td>Amelie (Fabuleux destin d'Amélie Poulain, Le) ...</td>\n",
       "      <td>372</td>\n",
       "      <td>8362</td>\n",
       "      <td>25</td>\n",
       "      <td>4.0</td>\n",
       "      <td>2010-07-01 05:59:13</td>\n",
       "    </tr>\n",
       "    <tr>\n",
       "      <th>3</th>\n",
       "      <td>4973</td>\n",
       "      <td>2.989296</td>\n",
       "      <td>Amelie (Fabuleux destin d'Amélie Poulain, Le) ...</td>\n",
       "      <td>372</td>\n",
       "      <td>8362</td>\n",
       "      <td>35</td>\n",
       "      <td>5.0</td>\n",
       "      <td>2006-11-26 00:09:55</td>\n",
       "    </tr>\n",
       "    <tr>\n",
       "      <th>4</th>\n",
       "      <td>4973</td>\n",
       "      <td>2.989296</td>\n",
       "      <td>Amelie (Fabuleux destin d'Amélie Poulain, Le) ...</td>\n",
       "      <td>372</td>\n",
       "      <td>8362</td>\n",
       "      <td>45</td>\n",
       "      <td>4.0</td>\n",
       "      <td>2006-10-25 23:05:00</td>\n",
       "    </tr>\n",
       "    <tr>\n",
       "      <th>...</th>\n",
       "      <td>...</td>\n",
       "      <td>...</td>\n",
       "      <td>...</td>\n",
       "      <td>...</td>\n",
       "      <td>...</td>\n",
       "      <td>...</td>\n",
       "      <td>...</td>\n",
       "      <td>...</td>\n",
       "    </tr>\n",
       "    <tr>\n",
       "      <th>140914</th>\n",
       "      <td>2722</td>\n",
       "      <td>1.300035</td>\n",
       "      <td>Deep Blue Sea (1999)</td>\n",
       "      <td>7377</td>\n",
       "      <td>8362</td>\n",
       "      <td>138429</td>\n",
       "      <td>2.0</td>\n",
       "      <td>2006-07-21 19:06:41</td>\n",
       "    </tr>\n",
       "    <tr>\n",
       "      <th>140915</th>\n",
       "      <td>2722</td>\n",
       "      <td>1.300035</td>\n",
       "      <td>Deep Blue Sea (1999)</td>\n",
       "      <td>7377</td>\n",
       "      <td>8362</td>\n",
       "      <td>138460</td>\n",
       "      <td>3.5</td>\n",
       "      <td>2013-09-03 14:34:19</td>\n",
       "    </tr>\n",
       "    <tr>\n",
       "      <th>140916</th>\n",
       "      <td>2722</td>\n",
       "      <td>1.300035</td>\n",
       "      <td>Deep Blue Sea (1999)</td>\n",
       "      <td>7377</td>\n",
       "      <td>8362</td>\n",
       "      <td>138464</td>\n",
       "      <td>3.0</td>\n",
       "      <td>2002-06-23 00:35:57</td>\n",
       "    </tr>\n",
       "    <tr>\n",
       "      <th>140917</th>\n",
       "      <td>2722</td>\n",
       "      <td>1.300035</td>\n",
       "      <td>Deep Blue Sea (1999)</td>\n",
       "      <td>7377</td>\n",
       "      <td>8362</td>\n",
       "      <td>138472</td>\n",
       "      <td>3.5</td>\n",
       "      <td>2010-02-25 17:29:40</td>\n",
       "    </tr>\n",
       "    <tr>\n",
       "      <th>140918</th>\n",
       "      <td>2722</td>\n",
       "      <td>1.300035</td>\n",
       "      <td>Deep Blue Sea (1999)</td>\n",
       "      <td>7377</td>\n",
       "      <td>8362</td>\n",
       "      <td>138491</td>\n",
       "      <td>1.5</td>\n",
       "      <td>2009-03-04 01:36:37</td>\n",
       "    </tr>\n",
       "  </tbody>\n",
       "</table>\n",
       "<p>140919 rows × 8 columns</p>\n",
       "</div>"
      ],
      "text/plain": [
       "        movieId  weighted_rating                                              title  rec_number  user  userId  rating            timestamp\n",
       "0          4973         2.989296  Amelie (Fabuleux destin d'Amélie Poulain, Le) ...         372  8362      11     3.5  2009-01-02 18:16:37\n",
       "1          4973         2.989296  Amelie (Fabuleux destin d'Amélie Poulain, Le) ...         372  8362      18     5.0  2007-11-20 15:51:13\n",
       "2          4973         2.989296  Amelie (Fabuleux destin d'Amélie Poulain, Le) ...         372  8362      25     4.0  2010-07-01 05:59:13\n",
       "3          4973         2.989296  Amelie (Fabuleux destin d'Amélie Poulain, Le) ...         372  8362      35     5.0  2006-11-26 00:09:55\n",
       "4          4973         2.989296  Amelie (Fabuleux destin d'Amélie Poulain, Le) ...         372  8362      45     4.0  2006-10-25 23:05:00\n",
       "...         ...              ...                                                ...         ...   ...     ...     ...                  ...\n",
       "140914     2722         1.300035                               Deep Blue Sea (1999)        7377  8362  138429     2.0  2006-07-21 19:06:41\n",
       "140915     2722         1.300035                               Deep Blue Sea (1999)        7377  8362  138460     3.5  2013-09-03 14:34:19\n",
       "140916     2722         1.300035                               Deep Blue Sea (1999)        7377  8362  138464     3.0  2002-06-23 00:35:57\n",
       "140917     2722         1.300035                               Deep Blue Sea (1999)        7377  8362  138472     3.5  2010-02-25 17:29:40\n",
       "140918     2722         1.300035                               Deep Blue Sea (1999)        7377  8362  138491     1.5  2009-03-04 01:36:37\n",
       "\n",
       "[140919 rows x 8 columns]"
      ]
     },
     "execution_count": 9,
     "metadata": {},
     "output_type": "execute_result"
    }
   ],
   "source": [
    "ub_plot_df_2 = ub_plot_df.merge(rating_sample2)\n",
    "ub_plot_df_2 = pd.DataFrame(ub_plot_df_2.loc[ub_plot_df_2[\"movieId\"].isin(ids)])\n",
    "ub_plot_df_2\n"
   ]
  },
  {
   "cell_type": "code",
   "execution_count": 11,
   "metadata": {},
   "outputs": [
    {
     "data": {
      "text/plain": [
       "dtype('float64')"
      ]
     },
     "execution_count": 11,
     "metadata": {},
     "output_type": "execute_result"
    }
   ],
   "source": [
    "ub_plot_df_2['rating'].dtype\n"
   ]
  },
  {
   "cell_type": "code",
   "execution_count": 25,
   "metadata": {},
   "outputs": [
    {
     "data": {
      "text/plain": [
       "<seaborn.axisgrid.FacetGrid at 0x16eefe810>"
      ]
     },
     "execution_count": 25,
     "metadata": {},
     "output_type": "execute_result"
    },
    {
     "data": {
      "image/png": "[encoded data removed]",
      "text/plain": [
       "<Figure size 594.125x500 with 1 Axes>"
      ]
     },
     "metadata": {},
     "output_type": "display_data"
    }
   ],
   "source": [
    "def plot_ratings(data):\n",
    "    import seaborn as sns\n",
    "\n",
    "    g = sns.lmplot(data=data,\n",
    "                   x= \"rec_number\", y= \"rating\", \n",
    "                   hue=\"movieId\", col=\"user\",\n",
    "                   scatter_kws={\"s\": 0})\n",
    "    g.set(ylim=(0, 5.2),\n",
    "          xlabel = \"Recommendation ranking\",\n",
    "          ylabel = 'Rating')\n",
    "\n",
    "    return g\n",
    "\n",
    "\n",
    "plot_ratings(ub_plot_df_2)"
   ]
  },
  {
   "attachments": {},
   "cell_type": "markdown",
   "metadata": {},
   "source": [
    "## 2.3. Model-Based Collaborative Filtering - Matrix factorization"
   ]
  },
  {
   "attachments": {},
   "cell_type": "markdown",
   "metadata": {},
   "source": [
    "An assumption of matrix factorization is that there exist some latent features when a user likes a movie. The same type of hidden features are also present for the movies.\n",
    "\n",
    "What are latent factors? they are a type of features in machine learning. In this case, they will be the underlying reasons as to why a given user likes a given movie, e.g. the genre of the movie, the director, the duration, the production company, the language in which the film was shot, etc.\n",
    "\n",
    "Firstly, in order to fill in the gaps in our data, we find the weights of the latent features for users and movies over our data. We can then use these weights to make predictions for non-existent observations.\n",
    "\n",
    "The approach here is to decompose the user-iten matrix, which we made previously, into 2 separate matrices of fewer dimensions. It is assumed that the transition between these different types of matrices occurs with latent factors, and we can thus assume the latent variables. Now, that we have filled in (assumed) missing observations, we can find the weights of the latent factors.\n",
    "\n",
    "So, to summarize: We assume that our rating matrix is the dot product of two factor matrices - one separate matrix for user latent factors and one separate matrix for movie latent factors. Both users and movies are then considered to have weights (scores) for these latent features. We begin by finding weights on the data that we have, and then we fill out the gaps according to these weights.\n",
    "\n",
    "#### Some Notes\n",
    "* Matrix Factorization vs SVD is not the same\n",
    "\n",
    "* SVD (Singular Value Decomposition) is a size reduction method.\n",
    "\n",
    "* ALS --> Spark ALS for big data. Only difference ALS make some changes on p and q values.\n",
    "\n",
    "\"\"\"\n"
   ]
  },
  {
   "attachments": {},
   "cell_type": "markdown",
   "metadata": {},
   "source": [
    "### About collaborative filtering\n",
    "\n",
    "[1] (https://developers.google.com/machine-learning/recommendation/collaborative/basics):\n",
    "\n",
    "For methods:\n",
    "\n",
    "Collaborative fltering deals with some of the limitations of content-based filtering by taking into consideration not only similarities between items (cast, director, budget, etc.) but also similarities between users when providing recommendations. In this manner, models that use collaborative filtering can recommend a movie to user A based on the interests (ratings, for example) of a similar user B. Another advantage of collaborative filtering is, that the embeddings are learned automatically by the model, i.e. there is no need to hand-engineer the features as with content-based filtering. \n",
    "\n",
    "More specifically regarding our workflow (I think):\n",
    "\n",
    "For our training data, we have a feedback matrix where each row represents a user and each column represents a movie."
   ]
  },
  {
   "attachments": {},
   "cell_type": "markdown",
   "metadata": {},
   "source": [
    "### 2.3.1. Data Preprocessing"
   ]
  },
  {
   "attachments": {},
   "cell_type": "markdown",
   "metadata": {},
   "source": [
    "#### About the surprise library\n",
    "\n",
    "(https://pypi.org/project/scikit-surprise/) and (https://surprise.readthedocs.io/en/stable/matrix_factorization.html#surprise.prediction_algorithms.matrix_factorization.SVD)\n",
    "\n",
    "Surprise was build sepcifically for the purpose of analyzing recommender systems that are dealing with explicit rating data. \n",
    "\n",
    "Amongst other things, it provides a number of various ready-to-use prediction algorithms. One of these is the probablistic matrix factorization-based SVD model. The prediction of the model rhat_ui is set as: \n",
    "\n",
    "rhat_ui = mu + b_u + b_i + q_i^T * p_u\n",
    "\n",
    "If the user u is unknown, then the bias term b_u and the factors p_u are assumed to be zero. The same is the case for i with b_i and q_i. In order to estimate the unknown variables (b_u, b_i, p_u, and q_i) we want to minimize this regularized squared error. We do this by a stochastic gradient descent. This process is performed and repeated over all of the ratings/scores/weights of the training data set for a specified number of epochs. Gamma is the learning rate, and has a default setting of 0.005, and lambda is the regularization term, and has the default setting of 0.02. "
   ]
  },
  {
   "cell_type": "code",
   "execution_count": 2,
   "metadata": {},
   "outputs": [],
   "source": [
    "import pandas as pd\n",
    "from surprise import Reader, SVD, Dataset, accuracy\n",
    "from surprise.model_selection import GridSearchCV, train_test_split, cross_validate\n",
    "pd.set_option('display.max_columns', None)"
   ]
  },
  {
   "cell_type": "code",
   "execution_count": 3,
   "metadata": {},
   "outputs": [
    {
     "data": {
      "text/html": [
       "<div>\n",
       "<style scoped>\n",
       "    .dataframe tbody tr th:only-of-type {\n",
       "        vertical-align: middle;\n",
       "    }\n",
       "\n",
       "    .dataframe tbody tr th {\n",
       "        vertical-align: top;\n",
       "    }\n",
       "\n",
       "    .dataframe thead th {\n",
       "        text-align: right;\n",
       "    }\n",
       "</style>\n",
       "<table border=\"1\" class=\"dataframe\">\n",
       "  <thead>\n",
       "    <tr style=\"text-align: right;\">\n",
       "      <th></th>\n",
       "      <th>movieId</th>\n",
       "      <th>title</th>\n",
       "      <th>genres</th>\n",
       "      <th>userId</th>\n",
       "      <th>rating</th>\n",
       "      <th>timestamp</th>\n",
       "    </tr>\n",
       "  </thead>\n",
       "  <tbody>\n",
       "    <tr>\n",
       "      <th>0</th>\n",
       "      <td>1</td>\n",
       "      <td>Toy Story (1995)</td>\n",
       "      <td>Adventure|Animation|Children|Comedy|Fantasy</td>\n",
       "      <td>3.0</td>\n",
       "      <td>4.0</td>\n",
       "      <td>1999-12-11 13:36:47</td>\n",
       "    </tr>\n",
       "    <tr>\n",
       "      <th>1</th>\n",
       "      <td>1</td>\n",
       "      <td>Toy Story (1995)</td>\n",
       "      <td>Adventure|Animation|Children|Comedy|Fantasy</td>\n",
       "      <td>6.0</td>\n",
       "      <td>5.0</td>\n",
       "      <td>1997-03-13 17:50:52</td>\n",
       "    </tr>\n",
       "    <tr>\n",
       "      <th>2</th>\n",
       "      <td>1</td>\n",
       "      <td>Toy Story (1995)</td>\n",
       "      <td>Adventure|Animation|Children|Comedy|Fantasy</td>\n",
       "      <td>8.0</td>\n",
       "      <td>4.0</td>\n",
       "      <td>1996-06-05 13:37:51</td>\n",
       "    </tr>\n",
       "    <tr>\n",
       "      <th>3</th>\n",
       "      <td>1</td>\n",
       "      <td>Toy Story (1995)</td>\n",
       "      <td>Adventure|Animation|Children|Comedy|Fantasy</td>\n",
       "      <td>10.0</td>\n",
       "      <td>4.0</td>\n",
       "      <td>1999-11-25 02:44:47</td>\n",
       "    </tr>\n",
       "    <tr>\n",
       "      <th>4</th>\n",
       "      <td>1</td>\n",
       "      <td>Toy Story (1995)</td>\n",
       "      <td>Adventure|Animation|Children|Comedy|Fantasy</td>\n",
       "      <td>11.0</td>\n",
       "      <td>4.5</td>\n",
       "      <td>2009-01-02 01:13:41</td>\n",
       "    </tr>\n",
       "  </tbody>\n",
       "</table>\n",
       "</div>"
      ],
      "text/plain": [
       "   movieId             title                                       genres  userId  rating            timestamp\n",
       "0        1  Toy Story (1995)  Adventure|Animation|Children|Comedy|Fantasy     3.0     4.0  1999-12-11 13:36:47\n",
       "1        1  Toy Story (1995)  Adventure|Animation|Children|Comedy|Fantasy     6.0     5.0  1997-03-13 17:50:52\n",
       "2        1  Toy Story (1995)  Adventure|Animation|Children|Comedy|Fantasy     8.0     4.0  1996-06-05 13:37:51\n",
       "3        1  Toy Story (1995)  Adventure|Animation|Children|Comedy|Fantasy    10.0     4.0  1999-11-25 02:44:47\n",
       "4        1  Toy Story (1995)  Adventure|Animation|Children|Comedy|Fantasy    11.0     4.5  2009-01-02 01:13:41"
      ]
     },
     "execution_count": 3,
     "metadata": {},
     "output_type": "execute_result"
    }
   ],
   "source": [
    "movie = pd.read_csv('movielens/movie.csv')\n",
    "rating = pd.read_csv('movielens/rating.csv')\n",
    "df = movie.merge(rating, how=\"left\", on=\"movieId\")\n",
    "df.head()"
   ]
  },
  {
   "cell_type": "code",
   "execution_count": 27,
   "metadata": {},
   "outputs": [],
   "source": [
    "# We reduce the dataset to these four movies in terms of both followability and performance (just for the sake of the example)\n",
    "movie_ids = [130219, 356, 4422, 541]\n",
    "movies = [\"The Dark Knight (2011)\",\n",
    "          \"Cries and Whispers (Viskningar och rop) (1972)\",\n",
    "          \"Forrest Gump (1994)\",\n",
    "          \"Blade Runner (1982)\"]"
   ]
  },
  {
   "cell_type": "code",
   "execution_count": 28,
   "metadata": {},
   "outputs": [
    {
     "data": {
      "text/html": [
       "<div>\n",
       "<style scoped>\n",
       "    .dataframe tbody tr th:only-of-type {\n",
       "        vertical-align: middle;\n",
       "    }\n",
       "\n",
       "    .dataframe tbody tr th {\n",
       "        vertical-align: top;\n",
       "    }\n",
       "\n",
       "    .dataframe thead th {\n",
       "        text-align: right;\n",
       "    }\n",
       "</style>\n",
       "<table border=\"1\" class=\"dataframe\">\n",
       "  <thead>\n",
       "    <tr style=\"text-align: right;\">\n",
       "      <th></th>\n",
       "      <th>movieId</th>\n",
       "      <th>title</th>\n",
       "      <th>genres</th>\n",
       "      <th>userId</th>\n",
       "      <th>rating</th>\n",
       "      <th>timestamp</th>\n",
       "    </tr>\n",
       "  </thead>\n",
       "  <tbody>\n",
       "    <tr>\n",
       "      <th>2457839</th>\n",
       "      <td>356</td>\n",
       "      <td>Forrest Gump (1994)</td>\n",
       "      <td>Comedy|Drama|Romance|War</td>\n",
       "      <td>4.0</td>\n",
       "      <td>4.0</td>\n",
       "      <td>1996-08-24 09:28:42</td>\n",
       "    </tr>\n",
       "    <tr>\n",
       "      <th>2457840</th>\n",
       "      <td>356</td>\n",
       "      <td>Forrest Gump (1994)</td>\n",
       "      <td>Comedy|Drama|Romance|War</td>\n",
       "      <td>7.0</td>\n",
       "      <td>4.0</td>\n",
       "      <td>2002-01-16 19:02:55</td>\n",
       "    </tr>\n",
       "    <tr>\n",
       "      <th>2457841</th>\n",
       "      <td>356</td>\n",
       "      <td>Forrest Gump (1994)</td>\n",
       "      <td>Comedy|Drama|Romance|War</td>\n",
       "      <td>8.0</td>\n",
       "      <td>5.0</td>\n",
       "      <td>1996-06-05 13:44:19</td>\n",
       "    </tr>\n",
       "    <tr>\n",
       "      <th>2457842</th>\n",
       "      <td>356</td>\n",
       "      <td>Forrest Gump (1994)</td>\n",
       "      <td>Comedy|Drama|Romance|War</td>\n",
       "      <td>9.0</td>\n",
       "      <td>4.0</td>\n",
       "      <td>2001-07-01 20:26:38</td>\n",
       "    </tr>\n",
       "    <tr>\n",
       "      <th>2457843</th>\n",
       "      <td>356</td>\n",
       "      <td>Forrest Gump (1994)</td>\n",
       "      <td>Comedy|Drama|Romance|War</td>\n",
       "      <td>10.0</td>\n",
       "      <td>3.0</td>\n",
       "      <td>1999-11-25 02:32:02</td>\n",
       "    </tr>\n",
       "  </tbody>\n",
       "</table>\n",
       "</div>"
      ],
      "text/plain": [
       "         movieId                title                    genres  userId  rating            timestamp\n",
       "2457839      356  Forrest Gump (1994)  Comedy|Drama|Romance|War     4.0     4.0  1996-08-24 09:28:42\n",
       "2457840      356  Forrest Gump (1994)  Comedy|Drama|Romance|War     7.0     4.0  2002-01-16 19:02:55\n",
       "2457841      356  Forrest Gump (1994)  Comedy|Drama|Romance|War     8.0     5.0  1996-06-05 13:44:19\n",
       "2457842      356  Forrest Gump (1994)  Comedy|Drama|Romance|War     9.0     4.0  2001-07-01 20:26:38\n",
       "2457843      356  Forrest Gump (1994)  Comedy|Drama|Romance|War    10.0     3.0  1999-11-25 02:32:02"
      ]
     },
     "execution_count": 28,
     "metadata": {},
     "output_type": "execute_result"
    }
   ],
   "source": [
    "sample_df = df[df.movieId.isin(movie_ids)]\n",
    "sample_df.shape\n",
    "sample_df.head()"
   ]
  },
  {
   "cell_type": "code",
   "execution_count": 29,
   "metadata": {},
   "outputs": [
    {
     "data": {
      "text/html": [
       "<div>\n",
       "<style scoped>\n",
       "    .dataframe tbody tr th:only-of-type {\n",
       "        vertical-align: middle;\n",
       "    }\n",
       "\n",
       "    .dataframe tbody tr th {\n",
       "        vertical-align: top;\n",
       "    }\n",
       "\n",
       "    .dataframe thead th {\n",
       "        text-align: right;\n",
       "    }\n",
       "</style>\n",
       "<table border=\"1\" class=\"dataframe\">\n",
       "  <thead>\n",
       "    <tr style=\"text-align: right;\">\n",
       "      <th>title</th>\n",
       "      <th>Blade Runner (1982)</th>\n",
       "      <th>Cries and Whispers (Viskningar och rop) (1972)</th>\n",
       "      <th>Forrest Gump (1994)</th>\n",
       "      <th>The Dark Knight (2011)</th>\n",
       "    </tr>\n",
       "    <tr>\n",
       "      <th>userId</th>\n",
       "      <th></th>\n",
       "      <th></th>\n",
       "      <th></th>\n",
       "      <th></th>\n",
       "    </tr>\n",
       "  </thead>\n",
       "  <tbody>\n",
       "    <tr>\n",
       "      <th>1.0</th>\n",
       "      <td>4.0</td>\n",
       "      <td>NaN</td>\n",
       "      <td>NaN</td>\n",
       "      <td>NaN</td>\n",
       "    </tr>\n",
       "    <tr>\n",
       "      <th>2.0</th>\n",
       "      <td>5.0</td>\n",
       "      <td>NaN</td>\n",
       "      <td>NaN</td>\n",
       "      <td>NaN</td>\n",
       "    </tr>\n",
       "    <tr>\n",
       "      <th>3.0</th>\n",
       "      <td>5.0</td>\n",
       "      <td>NaN</td>\n",
       "      <td>NaN</td>\n",
       "      <td>NaN</td>\n",
       "    </tr>\n",
       "    <tr>\n",
       "      <th>4.0</th>\n",
       "      <td>NaN</td>\n",
       "      <td>NaN</td>\n",
       "      <td>4.0</td>\n",
       "      <td>NaN</td>\n",
       "    </tr>\n",
       "    <tr>\n",
       "      <th>7.0</th>\n",
       "      <td>NaN</td>\n",
       "      <td>NaN</td>\n",
       "      <td>4.0</td>\n",
       "      <td>NaN</td>\n",
       "    </tr>\n",
       "  </tbody>\n",
       "</table>\n",
       "</div>"
      ],
      "text/plain": [
       "title   Blade Runner (1982)  Cries and Whispers (Viskningar och rop) (1972)  Forrest Gump (1994)  The Dark Knight (2011)\n",
       "userId                                                                                                                  \n",
       "1.0                     4.0                                             NaN                  NaN                     NaN\n",
       "2.0                     5.0                                             NaN                  NaN                     NaN\n",
       "3.0                     5.0                                             NaN                  NaN                     NaN\n",
       "4.0                     NaN                                             NaN                  4.0                     NaN\n",
       "7.0                     NaN                                             NaN                  4.0                     NaN"
      ]
     },
     "execution_count": 29,
     "metadata": {},
     "output_type": "execute_result"
    }
   ],
   "source": [
    "# Reshaping again - Creating the user movie dataframe for just these few movies\n",
    "user_movie_df = sample_df.pivot_table(index=[\"userId\"], columns=[\"title\"], values=\"rating\")\n",
    "user_movie_df.head()"
   ]
  },
  {
   "cell_type": "code",
   "execution_count": 30,
   "metadata": {},
   "outputs": [
    {
     "data": {
      "text/plain": [
       "surprise.dataset.DatasetAutoFolds"
      ]
     },
     "execution_count": 30,
     "metadata": {},
     "output_type": "execute_result"
    }
   ],
   "source": [
    "# The surprise library requires between which numbers the ratings will be. We give 1-5 range.\n",
    "reader = Reader(rating_scale=(1, 5))\n",
    "\n",
    "# The data we created in accordance with the data structure of the surprise library\n",
    "data = Dataset.load_from_df(sample_df[['userId', 'movieId', 'rating']], reader)\n",
    "type(data)"
   ]
  },
  {
   "attachments": {},
   "cell_type": "markdown",
   "metadata": {},
   "source": [
    "### 2.3.2. Modelling"
   ]
  },
  {
   "cell_type": "code",
   "execution_count": 31,
   "metadata": {},
   "outputs": [
    {
     "data": {
      "text/plain": [
       "<surprise.prediction_algorithms.matrix_factorization.SVD at 0x173157250>"
      ]
     },
     "execution_count": 31,
     "metadata": {},
     "output_type": "execute_result"
    }
   ],
   "source": [
    "# We start by splitting the data into a training set and a test set\n",
    "trainset, testset = train_test_split(data, test_size = .25)\n",
    "\n",
    "# Load the SVD model from the surprise library\n",
    "svd_model = SVD()\n",
    "\n",
    "# And fit the model to the training set\n",
    "svd_model.fit(trainset)"
   ]
  },
  {
   "cell_type": "code",
   "execution_count": 32,
   "metadata": {},
   "outputs": [],
   "source": [
    "predictions = svd_model.test(testset)\n",
    "\n",
    "#predictions"
   ]
  },
  {
   "cell_type": "code",
   "execution_count": 33,
   "metadata": {},
   "outputs": [
    {
     "name": "stdout",
     "output_type": "stream",
     "text": [
      "RMSE: 0.9328\n"
     ]
    },
    {
     "data": {
      "text/plain": [
       "0.9328242707727901"
      ]
     },
     "execution_count": 33,
     "metadata": {},
     "output_type": "execute_result"
    }
   ],
   "source": [
    "accuracy.rmse(predictions)"
   ]
  },
  {
   "cell_type": "code",
   "execution_count": 34,
   "metadata": {},
   "outputs": [
    {
     "name": "stdout",
     "output_type": "stream",
     "text": [
      "Evaluating RMSE, MAE of algorithm SVD on 5 split(s).\n",
      "\n",
      "                  Fold 1  Fold 2  Fold 3  Fold 4  Fold 5  Mean    Std     \n",
      "RMSE (testset)    0.9272  0.9493  0.9359  0.9338  0.9338  0.9360  0.0073  \n",
      "MAE (testset)     0.7158  0.7296  0.7223  0.7199  0.7257  0.7227  0.0047  \n",
      "Fit time          2.45    1.70    1.27    1.22    1.65    1.66    0.44    \n",
      "Test time         0.13    0.20    0.12    0.12    0.24    0.16    0.05    \n"
     ]
    },
    {
     "data": {
      "text/html": [
       "<div>\n",
       "<style scoped>\n",
       "    .dataframe tbody tr th:only-of-type {\n",
       "        vertical-align: middle;\n",
       "    }\n",
       "\n",
       "    .dataframe tbody tr th {\n",
       "        vertical-align: top;\n",
       "    }\n",
       "\n",
       "    .dataframe thead th {\n",
       "        text-align: right;\n",
       "    }\n",
       "</style>\n",
       "<table border=\"1\" class=\"dataframe\">\n",
       "  <thead>\n",
       "    <tr style=\"text-align: right;\">\n",
       "      <th>title</th>\n",
       "      <th>Blade Runner (1982)</th>\n",
       "      <th>Cries and Whispers (Viskningar och rop) (1972)</th>\n",
       "      <th>Forrest Gump (1994)</th>\n",
       "      <th>The Dark Knight (2011)</th>\n",
       "    </tr>\n",
       "    <tr>\n",
       "      <th>userId</th>\n",
       "      <th></th>\n",
       "      <th></th>\n",
       "      <th></th>\n",
       "      <th></th>\n",
       "    </tr>\n",
       "  </thead>\n",
       "  <tbody>\n",
       "    <tr>\n",
       "      <th>1.0</th>\n",
       "      <td>4.0</td>\n",
       "      <td>NaN</td>\n",
       "      <td>NaN</td>\n",
       "      <td>NaN</td>\n",
       "    </tr>\n",
       "    <tr>\n",
       "      <th>2.0</th>\n",
       "      <td>5.0</td>\n",
       "      <td>NaN</td>\n",
       "      <td>NaN</td>\n",
       "      <td>NaN</td>\n",
       "    </tr>\n",
       "    <tr>\n",
       "      <th>3.0</th>\n",
       "      <td>5.0</td>\n",
       "      <td>NaN</td>\n",
       "      <td>NaN</td>\n",
       "      <td>NaN</td>\n",
       "    </tr>\n",
       "    <tr>\n",
       "      <th>4.0</th>\n",
       "      <td>NaN</td>\n",
       "      <td>NaN</td>\n",
       "      <td>4.0</td>\n",
       "      <td>NaN</td>\n",
       "    </tr>\n",
       "    <tr>\n",
       "      <th>7.0</th>\n",
       "      <td>NaN</td>\n",
       "      <td>NaN</td>\n",
       "      <td>4.0</td>\n",
       "      <td>NaN</td>\n",
       "    </tr>\n",
       "  </tbody>\n",
       "</table>\n",
       "</div>"
      ],
      "text/plain": [
       "title   Blade Runner (1982)  Cries and Whispers (Viskningar och rop) (1972)  Forrest Gump (1994)  The Dark Knight (2011)\n",
       "userId                                                                                                                  \n",
       "1.0                     4.0                                             NaN                  NaN                     NaN\n",
       "2.0                     5.0                                             NaN                  NaN                     NaN\n",
       "3.0                     5.0                                             NaN                  NaN                     NaN\n",
       "4.0                     NaN                                             NaN                  4.0                     NaN\n",
       "7.0                     NaN                                             NaN                  4.0                     NaN"
      ]
     },
     "execution_count": 34,
     "metadata": {},
     "output_type": "execute_result"
    }
   ],
   "source": [
    "cross_validate(svd_model, data, measures=['RMSE', 'MAE'], cv=5, verbose=True)\n",
    "user_movie_df.head()"
   ]
  },
  {
   "cell_type": "code",
   "execution_count": 35,
   "metadata": {},
   "outputs": [
    {
     "name": "stdout",
     "output_type": "stream",
     "text": [
      "user: 1.0        item: 541        r_ui = None   est = 4.07   {'was_impossible': False}\n"
     ]
    },
    {
     "data": {
      "text/plain": [
       "Prediction(uid=1.0, iid=541, r_ui=None, est=4.06629439663551, details={'was_impossible': False})"
      ]
     },
     "execution_count": 35,
     "metadata": {},
     "output_type": "execute_result"
    }
   ],
   "source": [
    "# Now, we can try to predict the score of e.g. Blade Runner (movID = 541) for userID 1\n",
    "svd_model.predict(uid=1.0, iid=541, verbose=True)"
   ]
  },
  {
   "attachments": {},
   "cell_type": "markdown",
   "metadata": {},
   "source": [
    "### 2.3.2. Model Tuning"
   ]
  },
  {
   "attachments": {},
   "cell_type": "markdown",
   "metadata": {},
   "source": [
    "Hyperparameter Tuning:\n",
    "\n",
    "Now, that we know how to estimate the weights of the null observations, we need to figure out how the long process of changing the values should be. Should we update the weights 10 times? 100 times? How does this affect the learning speed of out model?\n",
    "\n",
    "Our model will have two interactive hyperparameters that need tuning: the number of epochs over which we train our model, and the learning rate of the model."
   ]
  },
  {
   "cell_type": "code",
   "execution_count": 36,
   "metadata": {},
   "outputs": [
    {
     "name": "stderr",
     "output_type": "stream",
     "text": [
      "[Parallel(n_jobs=-1)]: Using backend LokyBackend with 4 concurrent workers.\n",
      "[Parallel(n_jobs=-1)]: Done  27 out of  27 | elapsed:   15.1s finished\n"
     ]
    }
   ],
   "source": [
    "# We set our model parameters: training epochs and learning rate.\n",
    "# We run our model for a couple of different hyperparameter combinations.\n",
    "\n",
    "# Defining a grid with the hyperparam values that we want to test\n",
    "param_grid = {'n_epochs': [5, 10, 15], 'lr_all': [0.002, 0.005, 0.01]}\n",
    "\n",
    "gs = GridSearchCV(SVD, param_grid, measures=['rmse', 'mae'], cv=3, n_jobs=-1, joblib_verbose=True)\n",
    "\n",
    "gs.fit(data)"
   ]
  },
  {
   "attachments": {},
   "cell_type": "markdown",
   "metadata": {},
   "source": [
    "In the chunk above, we first define a grid with the different hyperparameter combinations that we are wanting to try out. In this case, we set 3 epoch values and 3 learning rate values. This makes for 9 possible combinations. We use the Surprise function GridSearchCV, where we set the cross-validation parameter (cv) to 3 to cross validate over 3 folds. This means that we will run the model 27 times in total. "
   ]
  },
  {
   "cell_type": "code",
   "execution_count": 37,
   "metadata": {},
   "outputs": [
    {
     "name": "stdout",
     "output_type": "stream",
     "text": [
      "{'rmse': 0.9320287506880796, 'mae': 0.7205925398122682}\n",
      "{'n_epochs': 15, 'lr_all': 0.002}\n"
     ]
    }
   ],
   "source": [
    "print(gs.best_score)\n",
    "print(gs.best_params['rmse'])\n",
    "\n",
    "# pd.DataFrame(gs.cv_results)"
   ]
  },
  {
   "cell_type": "code",
   "execution_count": 38,
   "metadata": {},
   "outputs": [
    {
     "data": {
      "image/png": "[encoded data removed]",
      "text/plain": [
       "<Figure size 640x480 with 1 Axes>"
      ]
     },
     "metadata": {},
     "output_type": "display_data"
    }
   ],
   "source": [
    "def plot_grid_search(cv_results, grid_param_1, grid_param_2, name_param_1, name_param_2):\n",
    "    # Get Test Scores Mean and std for each grid search\n",
    "    scores_mean = cv_results['mean_test_rmse']\n",
    "    scores_mean = np.array(scores_mean).reshape(len(grid_param_2),len(grid_param_1))\n",
    "\n",
    "    scores_sd = cv_results['std_test_rmse']\n",
    "    scores_sd = np.array(scores_sd).reshape(len(grid_param_2),len(grid_param_1))\n",
    "\n",
    "    # Plot Grid search scores\n",
    "    _, ax = plt.subplots(1,1)\n",
    "\n",
    "    # Param1 is the X-axis, Param 2 is represented as a different curve (color line)\n",
    "    for idx, val in enumerate(grid_param_2):\n",
    "        ax.plot(grid_param_1, scores_mean[idx,:], '-o', label= name_param_2 + ': ' + str(val))\n",
    "\n",
    "    ax.set_title(\"Grid Search Scores\", fontsize=20, fontweight='bold')\n",
    "    ax.set_xlabel(name_param_1, fontsize=16)\n",
    "    ax.set_ylabel('CV Average Score', fontsize=16)\n",
    "    ax.legend(loc=\"best\", fontsize=15)\n",
    "    ax.grid('on')\n",
    "\n",
    "# Calling Method \n",
    "plot_grid_search(gs.cv_results, param_grid['n_epochs'], param_grid['lr_all'], 'Epochs', 'Learning Rate')"
   ]
  },
  {
   "attachments": {},
   "cell_type": "markdown",
   "metadata": {},
   "source": [
    "### 2.3.4. Final Model and Prediction"
   ]
  },
  {
   "cell_type": "code",
   "execution_count": 39,
   "metadata": {},
   "outputs": [],
   "source": [
    "# Running the model with the best params that we just found above\n",
    "svd_model = SVD(**gs.best_params['rmse'])\n",
    "\n",
    "data = data.build_full_trainset()\n",
    "\n",
    "svd_model.fit(data)\n",
    "\n",
    "predictions = svd_model.test(testset)\n"
   ]
  },
  {
   "cell_type": "code",
   "execution_count": 40,
   "metadata": {},
   "outputs": [
    {
     "name": "stdout",
     "output_type": "stream",
     "text": [
      "user: 1.0        item: 541        r_ui = None   est = 4.20   {'was_impossible': False}\n"
     ]
    },
    {
     "data": {
      "text/plain": [
       "Prediction(uid=1.0, iid=541, r_ui=None, est=4.198192035234815, details={'was_impossible': False})"
      ]
     },
     "execution_count": 40,
     "metadata": {},
     "output_type": "execute_result"
    }
   ],
   "source": [
    "# Now, we can try to predict the score of e.g. Blade Runner (movID = 541) for userID 1\n",
    "svd_model.predict(uid=1.0, iid=541, verbose=True)"
   ]
  },
  {
   "cell_type": "code",
   "execution_count": 41,
   "metadata": {},
   "outputs": [
    {
     "data": {
      "text/html": [
       "<div>\n",
       "<style scoped>\n",
       "    .dataframe tbody tr th:only-of-type {\n",
       "        vertical-align: middle;\n",
       "    }\n",
       "\n",
       "    .dataframe tbody tr th {\n",
       "        vertical-align: top;\n",
       "    }\n",
       "\n",
       "    .dataframe thead th {\n",
       "        text-align: right;\n",
       "    }\n",
       "</style>\n",
       "<table border=\"1\" class=\"dataframe\">\n",
       "  <thead>\n",
       "    <tr style=\"text-align: right;\">\n",
       "      <th>title</th>\n",
       "      <th>Blade Runner (1982)</th>\n",
       "      <th>Cries and Whispers (Viskningar och rop) (1972)</th>\n",
       "      <th>Forrest Gump (1994)</th>\n",
       "      <th>The Dark Knight (2011)</th>\n",
       "    </tr>\n",
       "    <tr>\n",
       "      <th>userId</th>\n",
       "      <th></th>\n",
       "      <th></th>\n",
       "      <th></th>\n",
       "      <th></th>\n",
       "    </tr>\n",
       "  </thead>\n",
       "  <tbody>\n",
       "    <tr>\n",
       "      <th>1.0</th>\n",
       "      <td>4.0</td>\n",
       "      <td>NaN</td>\n",
       "      <td>NaN</td>\n",
       "      <td>NaN</td>\n",
       "    </tr>\n",
       "    <tr>\n",
       "      <th>2.0</th>\n",
       "      <td>5.0</td>\n",
       "      <td>NaN</td>\n",
       "      <td>NaN</td>\n",
       "      <td>NaN</td>\n",
       "    </tr>\n",
       "    <tr>\n",
       "      <th>3.0</th>\n",
       "      <td>5.0</td>\n",
       "      <td>NaN</td>\n",
       "      <td>NaN</td>\n",
       "      <td>NaN</td>\n",
       "    </tr>\n",
       "    <tr>\n",
       "      <th>4.0</th>\n",
       "      <td>NaN</td>\n",
       "      <td>NaN</td>\n",
       "      <td>4.0</td>\n",
       "      <td>NaN</td>\n",
       "    </tr>\n",
       "    <tr>\n",
       "      <th>7.0</th>\n",
       "      <td>NaN</td>\n",
       "      <td>NaN</td>\n",
       "      <td>4.0</td>\n",
       "      <td>NaN</td>\n",
       "    </tr>\n",
       "  </tbody>\n",
       "</table>\n",
       "</div>"
      ],
      "text/plain": [
       "title   Blade Runner (1982)  Cries and Whispers (Viskningar och rop) (1972)  Forrest Gump (1994)  The Dark Knight (2011)\n",
       "userId                                                                                                                  \n",
       "1.0                     4.0                                             NaN                  NaN                     NaN\n",
       "2.0                     5.0                                             NaN                  NaN                     NaN\n",
       "3.0                     5.0                                             NaN                  NaN                     NaN\n",
       "4.0                     NaN                                             NaN                  4.0                     NaN\n",
       "7.0                     NaN                                             NaN                  4.0                     NaN"
      ]
     },
     "execution_count": 41,
     "metadata": {},
     "output_type": "execute_result"
    }
   ],
   "source": [
    "# Taking a quick look at the user_movie_df, to see which movies certain users have and haven't rated\n",
    "user_movie_df.head()"
   ]
  },
  {
   "cell_type": "code",
   "execution_count": 42,
   "metadata": {},
   "outputs": [
    {
     "name": "stdout",
     "output_type": "stream",
     "text": [
      "user: 1.0        item: 541        r_ui = None   est = 4.20   {'was_impossible': False}\n"
     ]
    },
    {
     "data": {
      "text/plain": [
       "Prediction(uid=1.0, iid=541, r_ui=None, est=4.198192035234815, details={'was_impossible': False})"
      ]
     },
     "execution_count": 42,
     "metadata": {},
     "output_type": "execute_result"
    }
   ],
   "source": [
    "# Let's guess Blade Runner (movieID = 541) for userid 1\n",
    "svd_model.predict(uid = 1.0, iid = 541, verbose = True) \n",
    "# uid = userID\n",
    "# iid = itemID / movieID"
   ]
  },
  {
   "cell_type": "code",
   "execution_count": 43,
   "metadata": {},
   "outputs": [
    {
     "name": "stdout",
     "output_type": "stream",
     "text": [
      "user: 1.0        item: 356        r_ui = None   est = 4.08   {'was_impossible': False}\n"
     ]
    },
    {
     "data": {
      "text/plain": [
       "Prediction(uid=1.0, iid=356, r_ui=None, est=4.080307571093203, details={'was_impossible': False})"
      ]
     },
     "execution_count": 43,
     "metadata": {},
     "output_type": "execute_result"
    }
   ],
   "source": [
    "#  Cries and Whispers (356) for user id1.\n",
    "svd_model.predict(uid=1.0, iid=356, verbose=True)"
   ]
  },
  {
   "attachments": {},
   "cell_type": "markdown",
   "metadata": {},
   "source": [
    "This shows us, that the model predicts that the user will give Blade Runner a rating of 4.21 - a movie which the user in reality rated 4.0 (since the actual ratings are integers), so that is pretty good. If we then look at a movie which the user did not rate, Cries and Whispers, the model predicts that the user will give a rating of 4.04\n",
    "\n",
    "If we apply this method for all the full data set, then we can fill out all of the missing values where users haven't rated movies with rating estimates predicted by our model. When we have the full dataset, we can then recommend the top movies for a specific user."
   ]
  },
  {
   "cell_type": "code",
   "execution_count": 44,
   "metadata": {},
   "outputs": [],
   "source": [
    "movies=pd.read_csv('movielens/movie.csv')\n",
    "mapping = movies.set_index(\"movieId\")[\"title\"].to_dict()"
   ]
  },
  {
   "cell_type": "code",
   "execution_count": 45,
   "metadata": {},
   "outputs": [],
   "source": [
    "true_ratings = [pred.r_ui for pred in predictions]\n",
    "est_ratings = [pred.est for pred in predictions]\n",
    "uids = [pred.uid for pred in predictions]"
   ]
  },
  {
   "cell_type": "code",
   "execution_count": 49,
   "metadata": {},
   "outputs": [
    {
     "data": {
      "image/png": "[encoded data removed]",
      "text/plain": [
       "<Figure size 600x600 with 3 Axes>"
      ]
     },
     "metadata": {},
     "output_type": "display_data"
    }
   ],
   "source": [
    "import seaborn as sns\n",
    "\n",
    "data=pd.DataFrame(columns=[\"true\",\"predicted\"])\n",
    "data[\"true\"]=true_ratings\n",
    "data[\"predicted\"]=est_ratings\n",
    "g = sns.jointplot(data=data,x=\"true\", y=\"predicted\", kind=\"kde\",)\n",
    "g.fig.suptitle('Test predictions',fontsize=12)\n",
    "plt.show()"
   ]
  },
  {
   "cell_type": "code",
   "execution_count": 46,
   "metadata": {},
   "outputs": [],
   "source": [
    "movies=pd.read_csv('movielens/movie.csv')\n",
    "mapping = movies.set_index(\"movieId\")[\"title\"].to_dict()\n",
    "\n",
    "users=list(set(uids))"
   ]
  },
  {
   "cell_type": "code",
   "execution_count": 51,
   "metadata": {},
   "outputs": [
    {
     "name": "stdout",
     "output_type": "stream",
     "text": [
      "\n",
      "User 4.0 recommendations:\n",
      "\n",
      "User 11.0 recommendations:\n",
      "  Item Blade Runner (1982) with estimated rating 4.2569723950597815\n",
      "  Item Cries and Whispers (Viskningar och rop) (1972) with estimated rating 3.9750471088013524\n",
      "\n",
      "User 131085.0 recommendations:\n",
      "\n",
      "User 131086.0 recommendations:\n",
      "  Item Forrest Gump (1994) with estimated rating 3.974096347574087\n",
      "  Item Cries and Whispers (Viskningar och rop) (1972) with estimated rating 3.9265648353936484\n",
      "\n",
      "User 131087.0 recommendations:\n",
      "\n",
      "User 14.0 recommendations:\n",
      "\n",
      "User 131092.0 recommendations:\n",
      "  Item Forrest Gump (1994) with estimated rating 4.124696695040521\n",
      "  Item Cries and Whispers (Viskningar och rop) (1972) with estimated rating 4.059779835305618\n",
      "\n",
      "User 131093.0 recommendations:\n",
      "\n",
      "User 131102.0 recommendations:\n",
      "\n",
      "User 35.0 recommendations:\n",
      "\n",
      "User 131109.0 recommendations:\n",
      "  Item Forrest Gump (1994) with estimated rating 4.123485101348623\n",
      "  Item Cries and Whispers (Viskningar och rop) (1972) with estimated rating 4.0296692088804615\n",
      "\n",
      "User 131110.0 recommendations:\n",
      "  Item Forrest Gump (1994) with estimated rating 4.119825262043897\n",
      "  Item Cries and Whispers (Viskningar och rop) (1972) with estimated rating 3.911085043405005\n",
      "\n",
      "User 131111.0 recommendations:\n",
      "\n",
      "User 40.0 recommendations:\n",
      "\n",
      "User 131113.0 recommendations:\n",
      "\n",
      "User 42.0 recommendations:\n",
      "\n",
      "User 131115.0 recommendations:\n",
      "\n",
      "User 131117.0 recommendations:\n",
      "  Item Blade Runner (1982) with estimated rating 4.2538999574460234\n",
      "  Item Cries and Whispers (Viskningar och rop) (1972) with estimated rating 4.089923197484007\n",
      "\n",
      "User 46.0 recommendations:\n",
      "\n",
      "User 54.0 recommendations:\n",
      "  Item Cries and Whispers (Viskningar och rop) (1972) with estimated rating 4.191832540329772\n",
      "  Item Forrest Gump (1994) with estimated rating 4.04084447138932\n"
     ]
    }
   ],
   "source": [
    "import operator\n",
    "\n",
    "# items which the user not yet evaluate\n",
    "items = trainset.build_anti_testset()\n",
    "for user in users[0:20]:\n",
    "    user_items = list(filter(lambda x: x[0] == user, items))\n",
    "    print()\n",
    "    #print(user,len(user_items))\n",
    "    # generate recommendation\n",
    "    recommendations = svd_model.test(user_items)\n",
    "    recommendations.sort(key=operator.itemgetter(3), reverse=True)\n",
    "    print(f\"User {user} recommendations:\")\n",
    "    for r in recommendations[0:5]:\n",
    "        print(f\"  Item {mapping[r[1]]} with estimated rating {r[3]}\")"
   ]
  },
  {
   "attachments": {},
   "cell_type": "markdown",
   "metadata": {},
   "source": [
    "<p><center>Acknowledgement to 'Comprehensive Guide to Build Recommendation Engine' by Devan Anjelito on Kaggle</center></p>"
   ]
  }
 ],
 "metadata": {
  "kernelspec": {
   "display_name": "Python 3",
   "language": "python",
   "name": "python3"
  },
  "language_info": {
   "codemirror_mode": {
    "name": "ipython",
    "version": 3
   },
   "file_extension": ".py",
   "mimetype": "text/x-python",
   "name": "python",
   "nbconvert_exporter": "python",
   "pygments_lexer": "ipython3",
   "version": "3.11.3"
  },
  "orig_nbformat": 4
 },
 "nbformat": 4,
 "nbformat_minor": 2
}
